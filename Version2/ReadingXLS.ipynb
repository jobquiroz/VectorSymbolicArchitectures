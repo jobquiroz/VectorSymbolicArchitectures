{
 "cells": [
  {
   "cell_type": "code",
   "execution_count": 64,
   "metadata": {},
   "outputs": [
    {
     "name": "stdout",
     "output_type": "stream",
     "text": [
      "List of concepts:  ['Apple', 'Bowl', 'cup', 'fork', 'knife', 'plate', 'pot', 'spatula']\n",
      "{'fork': [('used_for', 'eat'), ('has', 'prongs'), ('is', 'utensil'), ('material', 'silver'), ('material', 'metal'), ('surface', 'sharp'), ('material', 'plastic'), ('material', 'stainless_steel')], 'plate': [('shape', 'round'), ('material', 'ceramic'), ('used_for', 'food'), ('material', 'porcelain'), ('used_for', 'eating'), ('color', 'white'), ('location', 'cupboard'), ('material', 'glass'), ('shape', 'flat'), ('location', 'kitchen')], 'Apple': [('color', 'red'), ('is', 'fruit'), ('origin', 'trees'), ('color', 'green'), ('eaten_in', 'pie'), ('consistency', 'crunchy'), ('has', 'seeds'), ('consistency', 'juicy'), ('taste', 'sweet'), ('shape', 'round'), ('taste', 'delicious'), ('info', 'nutritious'), ('color', 'yellow'), ('has', 'core'), ('has', 'skin'), ('taste', 'sour'), ('used_for', 'cider'), ('example', 'granny_smith'), ('infested_by', 'worms')], 'cup': [('used_for', 'drinking'), ('has', 'handle'), ('used_for', 'coffee'), ('used_for ', 'tea'), ('material', 'glass'), ('used_for ', 'measure'), ('location', 'kitchen'), ('material', 'ceramic'), ('material', 'plastic'), ('material', 'porcelain')], 'pot': [('used_for', 'cooking'), ('has', 'handle'), ('material', 'metal'), ('has', 'lid'), ('location', 'kitchen'), ('shape', 'round'), ('made_of', 'glass'), ('is', 'utensil')], 'Bowl': [('shape', 'round'), ('used_for', 'eat'), ('used_for', 'food'), ('used_for', 'soup'), ('used_for', 'eating_cereal'), ('used_for', 'liquids'), ('material', 'plastic'), ('location', 'kitchen'), ('shape', 'curved'), ('used_for', 'holding_things'), ('used_for', 'mixing'), ('color', 'different_colors'), ('material', 'ceramic')], 'spatula': [('is', 'utensil'), ('has', 'handle'), ('material', 'plastic'), ('used_for', 'cooking'), ('shape', 'flat'), ('material', 'metal'), ('used_for', 'flipping'), ('location', 'kitchen'), ('shape', 'long'), ('material', 'wood'), ('used_for', 'baking'), ('material', 'rubber')], 'knife': [('surface', 'sharp'), ('used_for', 'cutting'), ('has', 'handle'), ('is', 'weapon'), ('has', 'blade'), ('is ', 'utensil'), ('location', 'kitchen'), ('surface', 'serrated'), ('material', 'steel'), ('material', 'metal'), ('is', 'cutlery'), ('texture', 'shiny')]}\n"
     ]
    }
   ],
   "source": [
    "import pandas\n",
    "\n",
    "df = pandas.read_excel('sample.xlsx')\n",
    "\n",
    "# Dictionary of definitions\n",
    "Dic_defs = {}\n",
    "# Obtaining concept names from column 0\n",
    "concepts = [x for x in map(str, df[df.columns[0]].values) if x != 'nan']\n",
    "print 'List of concepts: ', concepts\n",
    "\n",
    "# Loop for each concept...\n",
    "for concept in concepts:\n",
    "    val_dic = list(zip([x for x in map(str, df[concept + '_feature']) if x !='nan'], \n",
    "                       [y for y in map(str, df[concept + '_val']) if y !='nan']))\n",
    "    Dic_defs[concept] = val_dic\n",
    "    \n",
    "print Dic_defs\n",
    "\n"
   ]
  }
 ],
 "metadata": {
  "kernelspec": {
   "display_name": "Python 2",
   "language": "python",
   "name": "python2"
  },
  "language_info": {
   "codemirror_mode": {
    "name": "ipython",
    "version": 2
   },
   "file_extension": ".py",
   "mimetype": "text/x-python",
   "name": "python",
   "nbconvert_exporter": "python",
   "pygments_lexer": "ipython2",
   "version": "2.7.14"
  }
 },
 "nbformat": 4,
 "nbformat_minor": 2
}
