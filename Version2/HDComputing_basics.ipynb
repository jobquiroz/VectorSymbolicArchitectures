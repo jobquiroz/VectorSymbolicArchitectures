{
 "cells": [
  {
   "cell_type": "markdown",
   "metadata": {},
   "source": [
    "# Hyperdimensional Computing \n",
    "\n",
    "This is an implementation of a Vector Symbolic Architecture (VSA) for a semantic net exploration.\n",
    "\n",
    "In version 2 I implemented the associative memory in such a way that is 'double associative'; we can obtain the semantic pointer from an ID vector but also an ID vector from a semantic pointer (like its definition vector)"
   ]
  },
  {
   "cell_type": "code",
   "execution_count": 10,
   "metadata": {},
   "outputs": [],
   "source": [
    "# Libraries\n",
    "import numpy as np\n",
    "\n",
    "# Global variables\n",
    "N = 10000     # Vectors' lenght\n",
    "ones = int(N*0.6931)  #Amount of ones in vector. With this value 50% of elements in vectors are ones (N = 1000 -> 0.694)\n",
    "Dict = {}     # Dictionary -> Symbols catalog\n",
    "\n",
    "Memory = [[],[],[]]  # The entire associative memory. First row is symbols (HDvector object), second row is label (string),\n",
    "                     # and third row is its definition, if it exists (HDvector object)\n",
    "#Symb_mat = []  #vectors' content list\n",
    "#labels = []   # vectors' labels list"
   ]
  },
  {
   "cell_type": "markdown",
   "metadata": {},
   "source": [
    "## General functions for vectors"
   ]
  },
  {
   "cell_type": "code",
   "execution_count": 11,
   "metadata": {},
   "outputs": [],
   "source": [
    "def SparseBitString(n):\n",
    "    \"\"\"This function generates a random binary vector\n",
    "    n: length of vector\n",
    "    BitString: Binary vector\"\"\"\n",
    "    # Generates 'ones' different random numbers ranging from 0 to n-1\n",
    "    Address = np.random.randint(0, n-1, ones)\n",
    "    # Initialize binary vector\n",
    "    BitString = np.zeros(n, dtype = np.int8)\n",
    "    # Set to 1 the address generated\n",
    "    BitString[Address] = 1\n",
    "    return BitString\n",
    "\n",
    "def ADD(*arg):\n",
    "    \" General function for vectors addition, it assumes that the argument is an object HDvector\"\n",
    "    if len(arg) == 1 and type(arg[0]) is list:\n",
    "        arg = arg[0]\n",
    "    len_0 = arg[0].lenght\n",
    "    Sum = np.zeros(len_0) # Initialize sum vector\n",
    "    n = len(arg) # Number of vectors to add\n",
    "    for vec in arg:\n",
    "        assert vec.lenght == len_0  # Are all dimensions equal??\n",
    "        Sum = Sum + vec.vec         # 'normal' sum\n",
    "    Sum = Sum / n                   # Average\n",
    "    Sum[Sum > 0.5] = 1              #Thresholding\n",
    "    Sum[Sum == 0.5] = SparseBitString(len_0)[Sum == 0.5]  # If average equal to 0.5 -> select a random value (0 or 1)\n",
    "    return HDvector(Sum.astype(np.int8))"
   ]
  },
  {
   "cell_type": "markdown",
   "metadata": {},
   "source": [
    "## Hyperdimensional vector class\n",
    "\n",
    "This class includes the initialization, getters and setters functions as well as Arithmetical operations for managing HD vectors"
   ]
  },
  {
   "cell_type": "code",
   "execution_count": 40,
   "metadata": {},
   "outputs": [],
   "source": [
    "# Hyperdimensional vectors class\n",
    "class HDvector (object):\n",
    "    # We can initialize our vector with its content (array) or its length (content random)\n",
    "    def __init__ (self, vec_or_len, label = None, pointer = None):\n",
    "        global Memory   # We use global variable\n",
    "        if type(vec_or_len) is int: #initializing vector by lenght\n",
    "            self.lenght = vec_or_len\n",
    "            self.vec = SparseBitString(vec_or_len)\n",
    "        elif type(vec_or_len) is np.ndarray:   #Initializing vector by content\n",
    "            self.lenght = len(vec_or_len)\n",
    "            self.vec = vec_or_len\n",
    "        else:\n",
    "            raise TypeError(\"Input has to be integer (length) or numpy array\")\n",
    "        \n",
    "        # If label is given, the initialized vector is added in global catalogs\n",
    "        if label in Memory[1]:\n",
    "            raise NameError(\"Label '\" + str(label) + \"'is already in catalog!\")\n",
    "        elif label:\n",
    "            Memory[1].append(label)\n",
    "            if len(Memory[0]) != 0:\n",
    "                Memory[0] = np.concatenate((Memory[0], self.vec.reshape((1,N))))\n",
    "            Dict[label] = self   # label is linked to vector -> (added to global dictionary)\n",
    "            \n",
    "            # ASI?? O QUE EL APUNTADOR SEA OBJETO????\n",
    "            Memory[2].append(pointer)\n",
    "        \n",
    "        self.label = label       # assigning vector label\n",
    "        self.pointer = pointer   # assigning pointer (vector)\n",
    "        \n",
    "        # Index of this object in global Memory...\n",
    "        self.index = len(Memory[0]) - 1\n",
    "    \n",
    "    # Getters\n",
    "    def getVec(self):   # it returns the array of the HD vector object\n",
    "        return self.vec\n",
    "    \n",
    "    def getLabelID (self): # return label (the initialized label or the label of the closest vector in catalog)\n",
    "        if self.label:  # if it has an assigned label\n",
    "            return self.label\n",
    "        else: #This vector hasn't a label. We find the most similar vector in dictionary and take its label\n",
    "            HamVec = np.array([self.dist_vec(x) for x in Memory[0]]) #Finding the closest vector\n",
    "            if HamVec.min() < N * 0.45:  # Select the closest vector but only proceed if is below a threshold\n",
    "                return Memory[1][HamVec.argmin()]\n",
    "            #else:\n",
    "                #print('Ningún vector es lo suficientemente parecido')\n",
    "                #return None\n",
    "                \n",
    "    def getLabelSP(self):   #get label of vector by searching in definitions...\n",
    "        # Collect indexes where there's an actual pointer vector...\n",
    "        Index = [i for i,x in enumerate(Memory[2]) if type(x) == np.ndarray]\n",
    "        \n",
    "        HamVec = np.array([self.dist_vec(Memory[2][x]) for x in Index])\n",
    "        if HamVec.min() < N * 0.45:   #Select the closest vector but only proceed if it is below a threshold\n",
    "            return Memory[1][Index[HamVec.argmin()]]\n",
    "        \n",
    "    def getPointer(self):\n",
    "        return self.pointer\n",
    "    \n",
    "    # Setters\n",
    "    def setContent(self, in_array): #Set a new content\n",
    "        self.vec = in_array\n",
    "    def setPointer(self, other):    #Set a vector to point to\n",
    "        self.pointer = other\n",
    "        Memory[2][self.index] = other.getVec()  #setting new vector..\n",
    "    \n",
    "    # Distance\n",
    "    def dist(self, other):        #Measure distance between two object vectors\n",
    "        assert self.lenght == other.lenght    #Sanity check\n",
    "        return np.count_nonzero(self.vec != other.vec)\n",
    "    def dist_vec(self, vecc):      #Measure distance between an object vector and a numpy array (sometimes useful)\n",
    "        assert self.lenght == len(vecc)      #Sanity check\n",
    "        return np.count_nonzero(self.vec != vecc)\n",
    "    \n",
    "    # Arithmetic \n",
    "    def p(self, times):     #Pemutation aka rolling\n",
    "        return HDvector(np.roll(self.vec, times))\n",
    "    def ip(self, times):    #Inverse permutation aka inverse rolling\n",
    "        return HDvector(np.roll(self.vec, self.lenght - times))\n",
    "    def __add__(self, other): #Add\n",
    "        return ADD(self, other)\n",
    "    def __mul__(self, other):  #Multiplication\n",
    "        return HDvector( np.bitwise_xor(self.vec, other.vec))\n",
    "    def __pow__(self, other):  #Function that multiplies self's pointer by other's vector\n",
    "        if isinstance(self.getPointer(), HDvector):\n",
    "            return HDvector(np.bitwise_xor(self.getPointer().getVec(), other.vec))\n",
    "\n",
    "    # Other functions\n",
    "    def conc (self, other):  #Concatenate two vector objects arrays\n",
    "        return HDvector(np.concatenate((self.vec, other.vec)))\n",
    "    def __str__(self):\n",
    "        return str(self.vec)"
   ]
  },
  {
   "cell_type": "markdown",
   "metadata": {},
   "source": [
    "## Init function"
   ]
  },
  {
   "cell_type": "code",
   "execution_count": 17,
   "metadata": {},
   "outputs": [],
   "source": [
    "def init():\n",
    "    \"Initialize vector 'null' and symbol matrix\"\n",
    "    global Dict, Memory\n",
    "    Dict = {}; Memory = [[],[],[]] #Symb_mat = [] ; labels = []\n",
    "    # Null vector \n",
    "    null = HDvector(N, 'null')  # Initialize by size and label\n",
    "    # Store vector in global array, this has to be done only once...\n",
    "    Memory[0] = np.array([null.getVec()])"
   ]
  }
 ],
 "metadata": {
  "kernelspec": {
   "display_name": "Python 2",
   "language": "python",
   "name": "python2"
  },
  "language_info": {
   "codemirror_mode": {
    "name": "ipython",
    "version": 2
   },
   "file_extension": ".py",
   "mimetype": "text/x-python",
   "name": "python",
   "nbconvert_exporter": "python",
   "pygments_lexer": "ipython2",
   "version": "2.7.14"
  }
 },
 "nbformat": 4,
 "nbformat_minor": 2
}
