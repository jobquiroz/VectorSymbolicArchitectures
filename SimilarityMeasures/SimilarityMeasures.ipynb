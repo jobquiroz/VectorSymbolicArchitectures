{
 "cells": [
  {
   "cell_type": "markdown",
   "metadata": {},
   "source": [
    "## Encoding McRae's dataset in hyperdimensional memory\n",
    "\n",
    "### Libraries and HDComputing class"
   ]
  },
  {
   "cell_type": "code",
   "execution_count": 1,
   "metadata": {},
   "outputs": [],
   "source": [
    "%run HDComputing_basics.ipynb\n",
    "import pandas as pd"
   ]
  },
  {
   "cell_type": "markdown",
   "metadata": {},
   "source": [
    "### Functions for reading dataset"
   ]
  },
  {
   "cell_type": "code",
   "execution_count": 2,
   "metadata": {},
   "outputs": [],
   "source": [
    "def TranslateFeats(ListFeat):\n",
    "    \"It receives a list of features such as ['is_blue', 'is_rectangular'] and it returns: [['color','blue'], ['shape','rectangular']\"\n",
    "    # Dataframe for excel document\n",
    "    df = pd.read_excel('../McRaedataset/FEATS_brm.xlsx')\n",
    "    ListPairs = []\n",
    "    for feat in ListFeat:\n",
    "        # Row for feature...\n",
    "        row = df.loc[df['Feature'] == feat]       \n",
    "        # Look for values in vec_feat and vec_value\n",
    "        ListPairs.append([str(row['feat_name'].tolist()[0]), str(row['feat_value'].tolist()[0])])       \n",
    "    return ListPairs\n",
    "\n",
    "def ReadDefinitions():\n",
    "    \"Given an xlsx file it returns all the concepts feature values as they appear in the original dataset\"\n",
    "    #Dataframe for excel document\n",
    "    df = pd.read_excel('../McRaeDataset/CONCS_FEATS_concstats_brm.xlsx') #MINI_\n",
    "    #Create a list with all concept names\n",
    "    names = set(df['Concept'])\n",
    "    # Extract list of features for each name\n",
    "    Concepts = []\n",
    "    for n in names:\n",
    "        row = df.loc[df['Concept'] == n]\n",
    "        Concepts.append([str(n), map(str,list(row['Feature']))])\n",
    "    return Concepts\n",
    "\n",
    "\n",
    "def ClosestConcepts (concept, nc):\n",
    "    \"Given a concept label this function reads the distance matrix from McRae's and returns the 'nc' closests concepts in a list\"\n",
    "    # Excel document to data frame...\n",
    "    df = pd.read_excel('../McRaeDataset/cos_matrix_brm_IFR.xlsx')\n",
    "    \n",
    "    ordered = df.sort_values(by=concept, ascending=False)[['CONCEPT', concept]]\n",
    "    #print ordered \n",
    "    \n",
    "    L1 = list(ordered['CONCEPT'][0:nc])\n",
    "    L1 = map(str, L1)\n",
    "    \n",
    "    L2 = zip(L1,list(ordered[concept][0:nc]))\n",
    "    L2 = map(list, L2)\n",
    "    \n",
    "    #print L1\n",
    "    #print L2\n",
    "    return L2\n",
    "   # return L1, L2"
   ]
  },
  {
   "cell_type": "markdown",
   "metadata": {},
   "source": [
    "### Creating definitions dictionary"
   ]
  },
  {
   "cell_type": "code",
   "execution_count": 3,
   "metadata": {},
   "outputs": [],
   "source": [
    "def CreateDictionary():\n",
    "    global Dict_defs\n",
    "    data = ReadDefinitions()\n",
    "    for concept in data:\n",
    "        Dict_defs[concept[0]] = TranslateFeats(concept[1])"
   ]
  },
  {
   "cell_type": "markdown",
   "metadata": {},
   "source": [
    "## Storing ID vectors into memory\n",
    "\n",
    "### Memory functions"
   ]
  },
  {
   "cell_type": "code",
   "execution_count": 4,
   "metadata": {},
   "outputs": [],
   "source": [
    "def flat_list (L):\n",
    "    \"Recursive function that flats a list of lists (at any level)\"\n",
    "    if L == []:\n",
    "        return L\n",
    "    if type(L[0]) is list:\n",
    "        return flat_list(L[0]) + flat_list(L[1:])\n",
    "    return L[:1] + flat_list(L[1:])\n",
    "\n",
    "def SaveConcepts(Dic):\n",
    "    \"\"\"Given a definitions dictionary it stores in memory the entire set of concepts in the dictionary (including feature vectors)\"\"\"\n",
    "    keys = Dic.keys()\n",
    "    vals = Dic.values()\n",
    "    all_concepts = list(set(flat_list(vals) + keys))\n",
    "    # Process for storing list of concepts in memory\n",
    "    for concept in all_concepts:\n",
    "        HDvector(N,concept) #This creates an object and store it in memory\n",
    "        \n",
    "def FeatureVectors(Dic):\n",
    "    \"It extract from the definition dictionary all the feature type vectors ('is','has','color', etc...)\"\n",
    "    global feature_vectors\n",
    "    featt = []\n",
    "    vals = Dic.values()\n",
    "    for l in vals:\n",
    "        for p in l:\n",
    "            featt.append(p[0])\n",
    "    feature_vectors = list(set(featt))\n",
    "    \n",
    "def CreateSemanticPointer (PairList):\n",
    "    \"Turns list as [[feat1,feat_val],[feat2,feat_val],[feat3,feat_val]] into vector feat1*feat_val + feat2*feat_val ...\"\n",
    "    vecs = []\n",
    "    for pair in PairList:\n",
    "        vecs.append(Dict[pair[0]] * Dict[pair[1]])\n",
    "    return ADD(vecs)\n",
    "\n",
    "def SaveDefinitions(Dic):\n",
    "    \"\"\"Given the definitions dictionary, and having all its concepts previously stored in memory, this functions\n",
    "       creates a definition vector (semantic pointer) using HD operations and assign it as a pointer to an \n",
    "       object vector (ID vector).\"\"\"\n",
    "    global feature_vectors\n",
    "    # Going through all elements in dictionary\n",
    "    for key, value in Dic.iteritems():\n",
    "        Dict[key].setPointer(CreateSemanticPointer(value))"
   ]
  },
  {
   "cell_type": "markdown",
   "metadata": {},
   "source": [
    "## Main function"
   ]
  },
  {
   "cell_type": "code",
   "execution_count": 5,
   "metadata": {},
   "outputs": [
    {
     "name": "stdout",
     "output_type": "stream",
     "text": [
      "End of initialization\n",
      "End of encoding\n",
      "Starting tests...\n",
      "\n",
      "Test 1 passed!\n",
      "Test 2 passed!\n",
      "Test 3 passed!\n",
      "Test 4: Distance from accordion to airplane (definitions) -> 5049\n",
      "\n",
      "\n",
      "Closest concepts to 'airplane' definition:  [['airplane', 0], ['jet', 2441], ['train', 3807], ['rocket', 3925], ['helicopter', 3931], ['trolley', 4123], ['taxi', 4144], ['ship', 4190], ['raven', 4219], ['submarine', 4238], ['crow', 4238], ['housefly', 4253], ['scooter', 4265], ['pelican', 4275], ['beetle', 4275], ['car', 4284], ['bin_(waste)', 4286], ['buzzard', 4294], ['hornet', 4299], ['goose', 4316], ['hawk', 4319], ['van', 4332], ['stork', 4333], ['ambulance', 4338], ['horse', 4342], ['subway', 4345], ['bus', 4348], ['eagle', 4356], ['falcon', 4361], ['nightingale', 4362], ['sled', 4367], ['oriole', 4372], ['vulture', 4380], ['tank_(container)', 4381], ['leopard', 4386], ['umbrella', 4386], ['pheasant', 4399], ['bike', 4401], ['sledgehammer', 4410], ['wheelbarrow', 4411], ['owl', 4422], ['building', 4425], ['dove', 4427], ['partridge', 4428], ['fan_(appliance)', 4431], ['cart', 4432], ['missile', 4432], ['shield', 4440], ['bazooka', 4443], ['yacht', 4447], ['moth', 4449], ['tank_(army)', 4453], ['wagon', 4455], ['cougar', 4458], ['pigeon', 4458], ['sleigh', 4462], ['bullet', 4475], ['finch', 4480], ['buggy', 4485], ['bridge', 4491], ['bucket', 4493], ['tuba', 4495], ['skateboard', 4495]]\n",
      "\n",
      "\n",
      "Closest concepts for definition [['has','wings'], ['is','reptile'],['made_of','metal']]:  [['airplane', 3908], ['jet', 4001], ['urn', 4102], ['tripod', 4132], ['spade', 4157], ['bucket', 4179], ['harmonica', 4204], ['colander', 4220], ['nightingale', 4222], ['hatchet', 4262], ['peg', 4263], ['tap', 4271], ['baton', 4291], ['bat_(baseball)', 4296], ['bench', 4308], ['drain', 4315], ['drill', 4319], ['trolley', 4323], ['hook', 4323], ['clamp', 4323], ['machete', 4326], ['shield', 4330], ['bin_(waste)', 4332], ['thimble', 4334], ['skillet', 4335], ['sledgehammer', 4336], ['salamander', 4339], ['chisel', 4341], ['tongs', 4341], ['oriole', 4344], ['moth', 4349], ['umbrella', 4350], ['sleigh', 4360], ['doorknob', 4360], ['spatula', 4363], ['sled', 4365], ['razor', 4368], ['cap_(bottle)', 4368], ['escalator', 4370], ['shotgun', 4374], ['pheasant', 4375], ['wheelbarrow', 4377], ['partridge', 4378], ['tank_(container)', 4379], ['brush', 4381], ['shovel', 4383], ['chain', 4385], ['buckle', 4385], ['revolver', 4386], ['cart', 4386], ['rocket', 4389], ['dove', 4391], ['armour', 4395], ['shelves', 4397], ['crowbar', 4397], ['crane_(machine)', 4398], ['microscope', 4398], ['rake', 4399], ['shack', 4402], ['pin', 4404], ['pliers', 4408], ['submarine', 4410], ['cage', 4416], ['buggy', 4417], ['ladle', 4425], ['finch', 4426], ['bullet', 4429], ['pan', 4431], ['train', 4431], ['anchor', 4432], ['blackbird', 4433], ['stove', 4433], ['screws', 4434], ['pot', 4434], ['corkscrew', 4434], ['sparrow', 4437], ['wheel', 4438], ['harpoon', 4438], ['tack', 4441], ['racquet', 4443], ['pipe_(plumbing)', 4444], ['hornet', 4445], ['kettle', 4445], ['scissors', 4447], ['dishwasher', 4456], ['lantern', 4457], ['oven', 4458], ['tractor', 4458], ['flute', 4459], ['canary', 4460], ['grenade', 4463], ['chickadee', 4465], ['clarinet', 4466], ['crow', 4466], ['tank_(army)', 4467], ['helicopter', 4469], ['bookcase', 4470], ['grater', 4471], ['trumpet', 4472], ['ring_(jewelry)', 4472], ['hammer', 4474], ['pigeon', 4474], ['fan_(appliance)', 4475], ['beetle', 4475], ['coin', 4477], ['desk', 4477], ['bolts', 4479], ['shed', 4479], ['wrench', 4480], ['key', 4482], ['elevator', 4482], ['fork', 4482], ['owl', 4482], ['bazooka', 4485], ['housefly', 4485], ['python', 4485], ['gun', 4486], ['strainer', 4487], ['bluejay', 4487], ['butterfly', 4489], ['turtle', 4491], ['bracelet', 4491], ['drum', 4493], ['stool_(furniture)', 4495], ['toaster', 4496], ['buzzard', 4496], ['starling', 4496], ['woodpecker', 4497], ['building', 4497], ['tricycle', 4498], ['tray', 4499]]\n",
      "\n",
      "\n",
      "Closest concepts for definition [['associated_with','polkas']]:  [['accordion', 3608]]\n",
      "\n",
      "Closest concepts to airplane (from Dataset) [['airplane', 1.0], ['jet', 0.775], ['housefly', 0.476], ['falcon', 0.471], ['moth', 0.469], ['hornet', 0.465], ['butterfly', 0.452], ['pigeon', 0.446], ['bat_(animal)', 0.443], ['hawk', 0.438], ['blackbird', 0.407], ['nightingale', 0.387], ['wasp', 0.374], ['oriole', 0.371], ['raven', 0.37], ['sparrow', 0.367], ['dove', 0.354], ['starling', 0.337], ['partridge', 0.337], ['seagull', 0.336]]\n"
     ]
    }
   ],
   "source": [
    "def EncodingTests():\n",
    "    # Test 1: Distance between any two ID vectors\n",
    "    IDvecs = np.random.choice(Memory[1], 2)\n",
    "    assert Dict[IDvecs[0]].dist(Dict[IDvecs[1]]) > thr\n",
    "    print \"Test 1 passed!\"\n",
    "    \n",
    "    # Test 2: Comparing a definition vs a random vector\n",
    "    d1 = Dict[Dict_defs.keys()[0]].getPointer().dist(Dict[IDvecs[1]])\n",
    "    assert d1 > thr   #Should be greater than threshold (0.45 * N)\n",
    "    print \"Test 2 passed!\"\n",
    "    \n",
    "    # Test 3: Getting labels for accordion ** has  (should return all features that accordion has)\n",
    "    L = HDvector.getLabelID( Dict['accordion'] ** Dict['has'] )\n",
    "    assert ( 'keys' in L[0][0] or 'keys' in L[1][0] ) or  ( 'buttons' in L[0][0] or 'buttons' in L[1][0] )\n",
    "    print  \"Test 3 passed!\"\n",
    "    \n",
    "    # Test 4: Comparing two semantic pointers\n",
    "    Dist = HDvector.dist( Dict['accordion'].getPointer(), Dict['airplane'].getPointer() )\n",
    "    print \"Test 4: Distance from accordion to airplane (definitions) ->\", Dist\n",
    "\n",
    "    # Test 5: Asking closest concept of another concept's definition...\n",
    "    Def = Dict['airplane'].getPointer()\n",
    "    print \"\\n\\nClosest concepts to 'airplane' definition: \", HDvector.getLabelSP(Def)    \n",
    "    \n",
    "    # Test 6: Asking for closest concept\n",
    "    vec = CreateSemanticPointer( [['has','wings'], ['is','reptile'],['made_of','metal']] )\n",
    "    print \"\\n\\nClosest concepts for definition [['has','wings'], ['is','reptile'],['made_of','metal']]: \", HDvector.getLabelSP(vec)\n",
    "    \n",
    "    # Test 6b: Asking for closest concept\n",
    "    vec = CreateSemanticPointer( [['associated_with','polkas']] )\n",
    "    print \"\\n\\nClosest concepts for definition [['associated_with','polkas']]: \", HDvector.getLabelSP(vec)\n",
    "    \n",
    "    \n",
    "    \n",
    "def Main():\n",
    "    init()\n",
    "    thr = 0.4 * N  \n",
    "    # Read dataset and create definition dictionary\n",
    "    CreateDictionary()\n",
    "    # Feature vectors\n",
    "    FeatureVectors(Dict_defs)\n",
    "    # Save concepts into memory (ID vectors)\n",
    "    SaveConcepts(Dict_defs)\n",
    "    # Associate definitions to concepts into memory (SP vectors)\n",
    "    SaveDefinitions(Dict_defs)\n",
    "    print \"End of encoding\"\n",
    "    \n",
    "    print \"Starting tests...\\n\"\n",
    "    EncodingTests()\n",
    "    \n",
    "Main()\n",
    "\n",
    "    \n",
    "print \"\\nClosest concepts to airplane (from Dataset)\", ClosestConcepts('airplane', 20)\n"
   ]
  },
  {
   "cell_type": "code",
   "execution_count": 6,
   "metadata": {},
   "outputs": [
    {
     "name": "stdout",
     "output_type": "stream",
     "text": [
      "[['has', 'teeth'], ['color', 'green'], ['is', 'animal'], ['shape', 'long'], ['is', 'reptile'], ['lives_in', 'swamps'], ['has', 'scales'], ['lives_in', 'water'], ['has', 'tail'], ['adjective', 'scary'], ['behaviour', 'swims'], ['has', 'mouth'], ['lives_in', 'Florida'], ['behaviour', 'eats_people'], ['has', 'jaws'], ['adjective', 'dangerous']]\n",
      "[['is', 'vegetable'], ['color', 'green'], ['shape', 'long'], ['has', 'inside'], ['eaten_by', 'cooking'], ['eaten_by', 'frying'], ['eaten_in', 'breads'], ['like_a', 'cucumber'], ['adjective', 'tastes_good'], ['has', 'seeds'], ['color', 'white_inside'], ['eaten', 'raw'], ['has', 'green_outside'], ['has', 'outside'], ['adjective', 'nutritious']]\n"
     ]
    }
   ],
   "source": [
    "print Dict_defs['alligator']\n",
    "print Dict_defs['zucchini']"
   ]
  }
 ],
 "metadata": {
  "kernelspec": {
   "display_name": "Python 2",
   "language": "python",
   "name": "python2"
  },
  "language_info": {
   "codemirror_mode": {
    "name": "ipython",
    "version": 2
   },
   "file_extension": ".py",
   "mimetype": "text/x-python",
   "name": "python",
   "nbconvert_exporter": "python",
   "pygments_lexer": "ipython2",
   "version": "2.7.14"
  }
 },
 "nbformat": 4,
 "nbformat_minor": 2
}
