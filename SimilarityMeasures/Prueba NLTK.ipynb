{
 "cells": [
  {
   "cell_type": "code",
   "execution_count": 1,
   "metadata": {},
   "outputs": [
    {
     "name": "stdout",
     "output_type": "stream",
     "text": [
      "[Synset('alligator.n.01'), Synset('alligator.n.02'), Synset('alligator.v.01')]\n",
      "[Synset('rattlesnake.n.01')]\n",
      "\n",
      "Path similarity:  0.142857142857\n",
      "\n",
      "Leacock-Chodorow Similarity:  1.69167601067\n",
      "\n",
      "Wu-Palmer Similarity:  0.785714285714\n",
      "\n",
      "Resnik Similarity:  9.21332648502\n",
      "\n",
      "Resnik Similarity:  7.32310859215\n",
      "\n",
      "Jiang-Conrath Similarity:  0.158355832837\n",
      "\n",
      "Jiang-Conrath Similarity:  0.151912946614\n",
      "\n",
      "Lin Similarity:  0.744765652565\n",
      "\n",
      "Lin Similarity:  0.689917674029\n"
     ]
    }
   ],
   "source": [
    "import nltk\n",
    "#nltk.download('wordnet')\n",
    "#nltk.download('wordnet_ic')\n",
    "from nltk.corpus import wordnet as wn\n",
    "from nltk.corpus import wordnet_ic\n",
    "\n",
    "\n",
    "print wn.synsets('alligator') \n",
    "print wn.synsets('rattlesnake')\n",
    "\n",
    "# HAY QUE HACER FUNCION CON UNA LISTA la cual se va a iterar uno contra todos, y luego otro uno contra todos, etc, etc.... \n",
    "# LUEGO HAY QUE ITERAR SOBRE TODOS LOS SYNSETS DE 'NOUNS'....  Y TOMAR EL MÁXIMO (O EL CORRECTO...)7\n",
    "\n",
    "# debo de medir performance con base a cuantos coinciden... no tanto al orden... o tal vez sí, pero como cuantifico el orden..\n",
    "# como lo 'califico'?? \n",
    "\n",
    "# Si en el artículo hago cierta crítica sobre WordNet tiene sentido después usar metricas de similitud basadas en WordNet\n",
    "# para compararme?? \n",
    "\n",
    "# Compararme yo vs McRae... en grado de coincidencia... o los dos vs las otras medidas... ???\n",
    "\n",
    "alligator = wn.synset('alligator.n.02')\n",
    "rattlesnake = wn.synset('rattlesnake.n.01')\n",
    "\n",
    "# Path Similarity\n",
    "# 3 formas (aplica para todas las metricas)\n",
    "#print alligator.path_similarity(rattlesnake) \n",
    "#print rattlesnake.path_similarity(alligator) \n",
    "print \"\\nPath similarity: \", wn.path_similarity(alligator, rattlesnake) \n",
    "\n",
    "# Leacock-Chodorow Similarity\n",
    "print \"\\nLeacock-Chodorow Similarity: \", wn.lch_similarity(alligator, rattlesnake) \n",
    "\n",
    "# Wu-Palmer Similarity\n",
    "print \"\\nWu-Palmer Similarity: \", wn.wup_similarity(alligator, rattlesnake) \n",
    "\n",
    "## Information content...\n",
    "brown_ic = wordnet_ic.ic('ic-brown.dat')\n",
    "semcor_ic = wordnet_ic.ic('ic-semcor.dat')\n",
    "\n",
    "# Resnik Similarity\n",
    "print \"\\nResnik Similarity: \", wn.res_similarity(alligator, rattlesnake, brown_ic) \n",
    "print \"\\nResnik Similarity: \", wn.res_similarity(alligator, rattlesnake, semcor_ic) \n",
    "\n",
    "\n",
    "# Jiang-Conrath Similarity \n",
    "print \"\\nJiang-Conrath Similarity: \", wn.jcn_similarity(alligator, rattlesnake, brown_ic) \n",
    "print \"\\nJiang-Conrath Similarity: \", wn.jcn_similarity(alligator, rattlesnake, semcor_ic) \n",
    "\n",
    "# Lin Similarity\n",
    "print \"\\nLin Similarity: \", wn.lin_similarity(alligator, rattlesnake, brown_ic) \n",
    "print \"\\nLin Similarity: \", wn.lin_similarity(alligator, rattlesnake, semcor_ic) \n",
    "\n"
   ]
  },
  {
   "cell_type": "code",
   "execution_count": null,
   "metadata": {},
   "outputs": [],
   "source": [
    "# Obtaining Synsets...\n",
    "\n",
    "s = 28\n",
    "print Concepts[s:s+5], \"\\n\"\n",
    "S = map(wn.synsets, Concepts[s:s+5])\n",
    "for x in range(5):\n",
    "    print \"\\n\", S[x]"
   ]
  }
 ],
 "metadata": {
  "kernelspec": {
   "display_name": "Python 2",
   "language": "python",
   "name": "python2"
  },
  "language_info": {
   "codemirror_mode": {
    "name": "ipython",
    "version": 2
   },
   "file_extension": ".py",
   "mimetype": "text/x-python",
   "name": "python",
   "nbconvert_exporter": "python",
   "pygments_lexer": "ipython2",
   "version": "2.7.14"
  }
 },
 "nbformat": 4,
 "nbformat_minor": 2
}
