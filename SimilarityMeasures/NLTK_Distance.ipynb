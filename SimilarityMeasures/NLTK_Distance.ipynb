{
 "cells": [
  {
   "cell_type": "markdown",
   "metadata": {},
   "source": [
    "## Semantic similarity \n",
    "\n",
    "In this notebook I use all similarity metrics from the NLTK library.\n",
    "Given a concept from the McRae as well as a list of the entire dataset concepts, this functions obtain the closest concepts to the input concept. \n",
    "\n",
    "### Header and obtaining list of concepts."
   ]
  },
  {
   "cell_type": "code",
   "execution_count": 2,
   "metadata": {},
   "outputs": [],
   "source": [
    "import pandas as pd\n",
    "import nltk\n",
    "\n",
    "def get_concepts_list ():\n",
    "    \"Returns a list of strings: the names of the concepts\"\n",
    "    df = pd.read_excel('../McRaedataset/CONCS_Synset_brm.xlsx')\n",
    "    return map(str, list(df['Concept']))\n",
    "    \n",
    "def get_synset (concept):\n",
    "    \"Given a concept name (string) it returns its synset (string)\"\n",
    "    # Dataframe for excel document\n",
    "    df = pd.read_excel('../McRaedataset/CONCS_Synset_brm.xlsx')\n",
    "    row = df.loc[df['Concept'] == concept]\n",
    "    return str(list(row['Synset'] )[0])\n",
    "\n",
    "Concepts = get_concepts_list()\n",
    "#print Concepts\n",
    "#print get_synset('airplane')"
   ]
  },
  {
   "cell_type": "markdown",
   "metadata": {},
   "source": [
    "## Obtaining similarity \n",
    "\n",
    "In the next cells we obtain a list of the 'n' \"closest\" concepts to a given concept, according to several similarity metric on the nltk library..."
   ]
  },
  {
   "cell_type": "code",
   "execution_count": 3,
   "metadata": {},
   "outputs": [
    {
     "name": "stdout",
     "output_type": "stream",
     "text": [
      "Synset('airplane.n.01')\n"
     ]
    }
   ],
   "source": [
    "from nltk.corpus import wordnet as wn\n",
    "from nltk.corpus import wordnet_ic\n",
    "\n",
    "#Input concept\n",
    "concept = wn.synset( get_synset(\"airplane\") )\n",
    "print concept"
   ]
  },
  {
   "cell_type": "markdown",
   "metadata": {},
   "source": [
    "### Path similarity\n",
    "\n",
    "This metric is based on the shortest path that connects the senses in the is-a (hypernym/hypnoym) taxonomy.\n",
    "The score is in the range 0 to 1. "
   ]
  },
  {
   "cell_type": "code",
   "execution_count": 4,
   "metadata": {},
   "outputs": [
    {
     "name": "stdout",
     "output_type": "stream",
     "text": [
      "[['airplane', 1.0], ['jet', 0.5], ['helicopter', 0.333], ['boat', 0.167], ['ship', 0.167], ['sled', 0.167], ['sleigh', 0.167], ['yacht', 0.167], ['bike', 0.143], ['missile', 0.143], ['sailboat', 0.143], ['scooter', 0.143], ['skateboard', 0.143], ['tank_(army)', 0.143], ['trailer', 0.143], ['tricycle', 0.143], ['unicycle', 0.143], ['wagon', 0.143], ['bus', 0.125], ['canoe', 0.125]]\n"
     ]
    }
   ],
   "source": [
    "dist_list = []\n",
    "for c in Concepts:\n",
    "    c_synset = wn.synset( get_synset(c) )\n",
    "    dist_list.append([c, round(wn.path_similarity(concept, c_synset), 3) ])\n",
    "\n",
    "dist_list = sorted(dist_list, key = lambda r : r[1], reverse = True)\n",
    "print dist_list [:20]"
   ]
  }
 ],
 "metadata": {
  "kernelspec": {
   "display_name": "Python 2",
   "language": "python",
   "name": "python2"
  },
  "language_info": {
   "codemirror_mode": {
    "name": "ipython",
    "version": 2
   },
   "file_extension": ".py",
   "mimetype": "text/x-python",
   "name": "python",
   "nbconvert_exporter": "python",
   "pygments_lexer": "ipython2",
   "version": "2.7.14"
  }
 },
 "nbformat": 4,
 "nbformat_minor": 2
}
