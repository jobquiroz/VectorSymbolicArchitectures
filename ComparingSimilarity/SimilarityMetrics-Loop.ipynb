{
 "cells": [
  {
   "cell_type": "markdown",
   "metadata": {},
   "source": [
    "# Getting list of similar concepts\n",
    "\n",
    "### This notebook is based on 'Similarity metrics but it iterates over multiple input concepts."
   ]
  },
  {
   "cell_type": "markdown",
   "metadata": {},
   "source": [
    "# Measuring Semantic Similarity\n",
    "\n",
    "This program measure the similarity between pairs of words from the McRae's dataset. First it uses the HD Computing approach and then compares it with similarity metrics from the NLTK library.\n",
    "\n",
    "### Importing libraries and HD computing functions"
   ]
  },
  {
   "cell_type": "code",
   "execution_count": 23,
   "metadata": {},
   "outputs": [],
   "source": [
    "import pandas as pd\n",
    "import nltk\n",
    "from nltk.corpus import wordnet as wn\n",
    "from nltk.corpus import wordnet_ic\n",
    "\n",
    "%run HDComputing_basics.ipynb"
   ]
  },
  {
   "cell_type": "markdown",
   "metadata": {},
   "source": [
    "### Functions for reading dataset"
   ]
  },
  {
   "cell_type": "code",
   "execution_count": 40,
   "metadata": {},
   "outputs": [],
   "source": [
    "def TranslateFeats(ListFeat):\n",
    "    \"It receives a list of features such as ['is_blue', 'is_rectangular'] and it returns: [['color','blue'], ['shape','rectangular']\"\n",
    "    # Dataframe for excel document\n",
    "    df = pd.read_excel('../McRaedataset/FEATS_brm.xlsx')\n",
    "    ListPairs = []\n",
    "    for feat in ListFeat:\n",
    "        # Row for feature...\n",
    "        row = df.loc[df['Feature'] == feat]       \n",
    "        # Look for values in vec_feat and vec_value\n",
    "        ListPairs.append([str(row['feat_name'].tolist()[0]), str(row['feat_value'].tolist()[0])])       \n",
    "    return ListPairs\n",
    "\n",
    "def ReadDefinitions():\n",
    "    \"Given an xlsx file it returns all the concepts feature values as they appear in the original dataset\"\n",
    "    #Dataframe for excel document\n",
    "    df = pd.read_excel('../McRaeDataset/CONCS_FEATS_concstats_brm.xlsx') #MINI_\n",
    "    #Create a list with all concept names\n",
    "    names = set(df['Concept'])\n",
    "    # Extract list of features for each name\n",
    "    Concepts = []\n",
    "    for n in names:\n",
    "        row = df.loc[df['Concept'] == n]\n",
    "        Concepts.append([str(n), map(str,list(row['Feature']))])\n",
    "    return Concepts\n",
    "\n",
    "def ClosestConcepts (concept, nc):\n",
    "    \"Given a concept label this function reads the distance matrix from McRae's and returns the 'nc' closests concepts in a list\"\n",
    "    # Excel document to data frame...\n",
    "    try:\n",
    "        df = pd.read_excel('../McRaeDataset/cos_matrix_brm_IFR.xlsx', '1st_200')\n",
    "        ordered = df.sort_values(by=concept, ascending=False)[['CONCEPT', concept]]\n",
    "    except: \n",
    "        try:\n",
    "            df = pd.read_excel('../McRaeDataset/cos_matrix_brm_IFR.xlsx', '2nd_200')\n",
    "            ordered = df.sort_values(by=concept, ascending=False)[['CONCEPT', concept]]\n",
    "        except:\n",
    "            df = pd.read_excel('../McRaeDataset/cos_matrix_brm_IFR.xlsx', 'last_141')\n",
    "            ordered = df.sort_values(by=concept, ascending=False)[['CONCEPT', concept]]\n",
    "    \n",
    "    L1 = list(ordered['CONCEPT'][0:nc])\n",
    "    L1 = map(str, L1)\n",
    "    L2 = zip(L1,list(ordered[concept][0:nc]))\n",
    "    L2 = map(list, L2)\n",
    "    \n",
    "    return L2"
   ]
  },
  {
   "cell_type": "markdown",
   "metadata": {},
   "source": [
    "### Creating definitions dictionary"
   ]
  },
  {
   "cell_type": "code",
   "execution_count": 25,
   "metadata": {},
   "outputs": [],
   "source": [
    "def CreateDictionary():\n",
    "    global Dict_defs\n",
    "    data = ReadDefinitions()\n",
    "    for concept in data:\n",
    "        Dict_defs[concept[0]] = TranslateFeats(concept[1])"
   ]
  },
  {
   "cell_type": "markdown",
   "metadata": {},
   "source": [
    "## Storing ID vectors into memory\n",
    "\n",
    "### Memory functions"
   ]
  },
  {
   "cell_type": "code",
   "execution_count": 26,
   "metadata": {},
   "outputs": [],
   "source": [
    "def flat_list (L):\n",
    "    \"Recursive function that flats a list of lists (at any level)\"\n",
    "    if L == []:\n",
    "        return L\n",
    "    if type(L[0]) is list:\n",
    "        return flat_list(L[0]) + flat_list(L[1:])\n",
    "    return L[:1] + flat_list(L[1:])\n",
    "\n",
    "def SaveConcepts(Dic):\n",
    "    \"\"\"Given a definitions dictionary it stores in memory the entire set of concepts in the dictionary (including feature vectors)\"\"\"\n",
    "    keys = Dic.keys()\n",
    "    vals = Dic.values()\n",
    "    all_concepts = list(set(flat_list(vals) + keys))\n",
    "    # Process for storing list of concepts in memory\n",
    "    for concept in all_concepts:\n",
    "        HDvector(N,concept) #This creates an object and store it in memory\n",
    "        \n",
    "def FeatureVectors(Dic):\n",
    "    \"It extract from the definition dictionary all the feature type vectors ('is','has','color', etc...)\"\n",
    "    global feature_vectors\n",
    "    featt = []\n",
    "    vals = Dic.values()\n",
    "    for l in vals:\n",
    "        for p in l:\n",
    "            featt.append(p[0])\n",
    "    feature_vectors = list(set(featt))\n",
    "    \n",
    "def CreateSemanticPointer (PairList):\n",
    "    \"Turns list as [[feat1,feat_val],[feat2,feat_val],[feat3,feat_val]] into vector feat1*feat_val + feat2*feat_val ...\"\n",
    "    vecs = []\n",
    "    for pair in PairList:\n",
    "        vecs.append(Dict[pair[0]] * Dict[pair[1]])\n",
    "    return ADD(vecs)\n",
    "\n",
    "def SaveDefinitions(Dic):\n",
    "    \"\"\"Given the definitions dictionary, and having all its concepts previously stored in memory, this functions\n",
    "       creates a definition vector (semantic pointer) using HD operations and assign it as a pointer to an \n",
    "       object vector (ID vector).\"\"\"\n",
    "    global feature_vectors\n",
    "    # Going through all elements in dictionary\n",
    "    for key, value in Dic.iteritems():\n",
    "        Dict[key].setPointer(CreateSemanticPointer(value))\n",
    "        \n",
    "def NormalizeHammDist (Dist_list):\n",
    "    \"Given a distance list of the form [['name', dist], ['name', dist], ... ], it normalize each distance and return a list with the same form\"\n",
    "    for i in range(len(Dist_list)):\n",
    "        Dist_list[i][1] = round( 1. - Dist_list[i][1] / float(N / 2), 3 )\n",
    "    return Dist_list"
   ]
  },
  {
   "cell_type": "markdown",
   "metadata": {},
   "source": [
    "### Initializing memory"
   ]
  },
  {
   "cell_type": "code",
   "execution_count": 27,
   "metadata": {},
   "outputs": [
    {
     "name": "stdout",
     "output_type": "stream",
     "text": [
      "End of initialization\n",
      "End of encoding\n"
     ]
    }
   ],
   "source": [
    "def Init_mem():\n",
    "    init()\n",
    "    thr = 0.4 * N\n",
    "    # Read dataset and create definition dictionary\n",
    "    CreateDictionary()\n",
    "    # Feature vectors\n",
    "    FeatureVectors(Dict_defs)\n",
    "    # Save concepts into memory (ID vectors)\n",
    "    SaveConcepts(Dict_defs)\n",
    "    # Associate definitions to concepts into memory (SP vectors)\n",
    "    SaveDefinitions(Dict_defs)\n",
    "    print \"End of encoding\"\n",
    "\n",
    "Init_mem()"
   ]
  },
  {
   "cell_type": "markdown",
   "metadata": {},
   "source": [
    "## Semantic Similarity using NLTK library\n",
    "\n",
    "### Auxiliar functions for similarity metrics"
   ]
  },
  {
   "cell_type": "code",
   "execution_count": 28,
   "metadata": {},
   "outputs": [],
   "source": [
    "brown_ic = wordnet_ic.ic('ic-brown.dat')\n",
    "\n",
    "def get_concepts_list ():\n",
    "    \"Returns a list of strings: the names of the concepts\"\n",
    "    df = pd.read_excel('../McRaedataset/CONCS_Synset_brm.xlsx')\n",
    "    return map(str, list(df['Concept']))\n",
    "    \n",
    "def get_synset (concept):\n",
    "    \"Given a concept name (string) it returns its synset (string)\"\n",
    "    # Dataframe for excel document\n",
    "    df = pd.read_excel('../McRaedataset/CONCS_Synset_brm.xlsx')\n",
    "    row = df.loc[df['Concept'] == concept]\n",
    "    return str(list(row['Synset'] )[0])\n",
    "\n",
    "def Apply_sim_metric ( similarity_metric, num, in_concept, corpus = None):\n",
    "    \"Given a similarity_metric function it returns a list of the num closest concepts to 'concept'\"\n",
    "    dist_list = []\n",
    "    for c in Concepts:\n",
    "        c_synset = wn.synset( get_synset(c) )\n",
    "        if corpus:\n",
    "            dist_list.append([c, round(similarity_metric(in_concept, c_synset, corpus), 3) ])\n",
    "        else:\n",
    "            dist_list.append([c, round(similarity_metric(in_concept, c_synset), 3) ])\n",
    "    return sorted(dist_list, key = lambda r : r[1], reverse = True ) [:num]"
   ]
  },
  {
   "cell_type": "markdown",
   "metadata": {},
   "source": [
    "### Getting list of closest vectors (HDcomputing and from Dataset)"
   ]
  },
  {
   "cell_type": "code",
   "execution_count": 41,
   "metadata": {},
   "outputs": [
    {
     "name": "stdout",
     "output_type": "stream",
     "text": [
      "\n",
      "\n",
      "Starting with: hose\n",
      "HDC_sim:  [['hose', 1.0], ['pen', 0.159], ['spatula', 0.135], ['pipe_(plumbing)', 0.131], ['peg', 0.126], ['rattle', 0.119]]\n",
      "DatSet_sim:  [['hose', 1.0], ['asparagus', 0.388], ['vine', 0.37], ['zucchini', 0.344], ['wand', 0.341], ['baton', 0.338]]\n",
      "\n",
      "\n",
      "Ultimate Union for hose : \n",
      "set(['pipe_(smoking)', 'board_(black)', 'hose', 'wand', 'rattle', 'vine', 'baton', 'spatula', 'toy', 'pipe_(plumbing)', 'drain', 'escalator', 'bow_(ribbon)', 'asparagus', 'balloon', 'pipe', 'pen', 'brick', 'peg', 'zucchini']) \n",
      "Lenght:  20\n",
      "\n",
      "\n",
      "Starting with: piano\n",
      "HDC_sim:  [['piano', 1.0], ['harp', 0.393], ['harpsichord', 0.372], ['keyboard_(musical)', 0.294], ['violin', 0.279], ['clarinet', 0.254]]\n",
      "DatSet_sim:  [['piano', 1.0], ['keyboard_(musical)', 0.719], ['clarinet', 0.646], ['accordion', 0.613], ['harp', 0.594], ['harpsichord', 0.576]]\n",
      "\n",
      "\n",
      "Ultimate Union for piano : \n",
      "set(['guitar', 'violin', 'clarinet', 'harp', 'drum', 'accordion', 'harpsichord', 'cello', 'keyboard_(musical)', 'piano', 'banjo']) \n",
      "Lenght:  11\n",
      "\n",
      "\n",
      "Starting with: rope\n",
      "HDC_sim:  [['rope', 1.0], ['spear', 0.106], ['canoe', 0.105], ['belt', 0.105], ['tie', 0.104], ['gorilla', 0.104]]\n",
      "DatSet_sim:  [['rope', 1.0], ['gorilla', 0.273], ['hose', 0.258], ['wand', 0.251], ['worm', 0.24], ['stick', 0.238]]\n",
      "\n",
      "\n",
      "Ultimate Union for rope : \n",
      "set(['building', 'bridge', 'board_(black)', 'hose', 'spear', 'wand', 'canoe', 'bow_(ribbon)', 'balloon', 'doll', 'worm', 'rope', 'gorilla', 'toy', 'stick', 'cushion', 'tie', 'brick', 'belt']) \n",
      "Lenght:  19\n",
      "\n",
      "\n",
      "Starting with: sword\n",
      "HDC_sim:  [['sword', 1.0], ['dagger', 0.413], ['machete', 0.402], ['knife', 0.366], ['spear', 0.259], ['axe', 0.256]]\n",
      "DatSet_sim:  [['sword', 1.0], ['machete', 0.702], ['dagger', 0.696], ['knife', 0.679], ['harpoon', 0.587], ['spear', 0.565]]\n",
      "\n",
      "\n",
      "Ultimate Union for sword : \n",
      "set(['dagger', 'spear', 'bayonet', 'bow_(weapon)', 'missile', 'harpoon', 'machete', 'crossbow', 'bullet', 'tomahawk', 'gun', 'sword', 'axe', 'pistol', 'knife']) \n",
      "Lenght:  15\n",
      "\n",
      "\n",
      "Starting with: train\n",
      "HDC_sim:  [['train', 1.0], ['jet', 0.372], ['airplane', 0.261], ['bus', 0.223], ['scooter', 0.222], ['dunebuggy', 0.216]]\n",
      "DatSet_sim:  [['train', 1.0], ['jet', 0.446], ['scooter', 0.349], ['bus', 0.348], ['subway', 0.341], ['car', 0.337]]\n",
      "\n",
      "\n",
      "Ultimate Union for train : \n",
      "set(['bike', 'jet', 'bus', 'scooter', 'sled', 'dunebuggy', 'train', 'subway', 'car', 'sleigh', 'airplane', 'trailer', 'boat']) \n",
      "Lenght:  13\n",
      "\n",
      "\n",
      "Starting with: toilet\n",
      "HDC_sim:  [['toilet', 1.0], ['bathtub', 0.171], ['plate', 0.146], ['sink', 0.118], ['cup', 0.107]]\n",
      "DatSet_sim:  [['toilet', 1.0], ['bathtub', 0.251], ['rice', 0.213], ['cauliflower', 0.186], ['pearl', 0.173], ['birch', 0.171]]\n",
      "\n",
      "\n",
      "Ultimate Union for toilet : \n",
      "set(['bridge', 'toilet', 'board_(black)', 'bathtub', 'tap', 'bow_(ribbon)', 'cauliflower', 'plate', 'chandelier', 'balloon', 'cup', 'pearl', 'toy', 'sink', 'birch', 'brick', 'rice']) \n",
      "Lenght:  17\n"
     ]
    }
   ],
   "source": [
    "Test_Concepts = ['hose','piano','rope', 'sword', 'train', 'toilet'] #['airplane', 'apple', 'bed', 'coin']\"\n",
    "                 \n",
    "num_concepts_1 = 6 #20\n",
    "num_concepts_2 = 10 #20\n",
    "\n",
    "# List of concepts for NLTK similarity metrics\n",
    "Concepts = get_concepts_list() \n",
    "\n",
    "for test_concept in Test_Concepts:\n",
    "    print \"\\n\\nStarting with:\", test_concept\n",
    "    # Asking closest concept of another concept's definition...\n",
    "    HDC_sim = HDvector.getLabelSP(Dict[test_concept].getPointer())[:num_concepts_1]\n",
    "    HDC_sim = NormalizeHammDist(HDC_sim)\n",
    "    DatSet_sim = ClosestConcepts(test_concept, num_concepts_1)\n",
    "    print \"HDC_sim: \", HDC_sim\n",
    "    print \"DatSet_sim: \", DatSet_sim\n",
    "    concept = wn.synset( get_synset(test_concept) )\n",
    "    # Path similarity\n",
    "    Path_sim = Apply_sim_metric(wn.path_similarity, num_concepts_2, concept)\n",
    "    LC_sim = Apply_sim_metric(wn.lch_similarity, num_concepts_2, concept ) \n",
    "    WUP_sim = Apply_sim_metric(wn.wup_similarity, num_concepts_2, concept )\n",
    "    # Information Content\n",
    "    Res_sim = Apply_sim_metric(wn.res_similarity, num_concepts_2, concept, brown_ic)\n",
    "    JC_sim = Apply_sim_metric(wn.jcn_similarity, num_concepts_2, concept, brown_ic)\n",
    "    Lin_sim = Apply_sim_metric(wn.lin_similarity, num_concepts_2, concept, brown_ic)\n",
    "    \n",
    "    # SETS... Performing Unions and Intersections\n",
    "    # Creating name sets\n",
    "    HDC_names = set([x[0] for x in HDC_sim])\n",
    "    DatSet_names = set([x[0] for x in DatSet_sim])\n",
    "    Path_names = set([x[0] for x in Path_sim])\n",
    "    LC_names = set([x[0] for x in LC_sim])\n",
    "    WUP_names = set([x[0] for x in WUP_sim])\n",
    "    Res_names = set([x[0] for x in Res_sim])\n",
    "    JC_names = set([x[0] for x in JC_sim])\n",
    "    Lin_names = set([x[0] for x in Lin_sim])\n",
    "    \n",
    "    # Intersection between HDC and Dataset\n",
    "    union_1 = HDC_names.union(DatSet_names)  #Era intersección... pero así esta mejor...\n",
    "\n",
    "    # Union of intersecion Path and intersection IC...\n",
    "    PathInt = Path_names.intersection(LC_names, WUP_names)\n",
    "    ICInt = Res_names.intersection(JC_names, Lin_names)\n",
    "    union_2 = PathInt.union(ICInt)\n",
    "\n",
    "    # Intersection between all NLTK metrics\n",
    "    union_3 = PathInt.intersection(ICInt)\n",
    "\n",
    "    # Intersection all NLTLK metrics and HDC and Dataset\n",
    "    union_4 = HDC_names.intersection(PathInt, ICInt)\n",
    "    union_5 = DatSet_names.intersection(PathInt, ICInt)\n",
    "    union_6 = HDC_names.intersection(DatSet_names, PathInt, ICInt)\n",
    "\n",
    "    # Ultimate union...\n",
    "    ult_union = set.union( union_1, union_2, union_3, union_4, union_5, union_6 )\n",
    "    print \"\\n\\nUltimate Union for\", test_concept,\": \\n\", ult_union, \"\\nLenght: \", len(ult_union)"
   ]
  }
 ],
 "metadata": {
  "kernelspec": {
   "display_name": "Python 2",
   "language": "python",
   "name": "python2"
  },
  "language_info": {
   "codemirror_mode": {
    "name": "ipython",
    "version": 2
   },
   "file_extension": ".py",
   "mimetype": "text/x-python",
   "name": "python",
   "nbconvert_exporter": "python",
   "pygments_lexer": "ipython2",
   "version": "2.7.14"
  }
 },
 "nbformat": 4,
 "nbformat_minor": 2
}
