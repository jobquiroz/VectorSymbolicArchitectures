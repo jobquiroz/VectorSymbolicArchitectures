{
 "cells": [
  {
   "cell_type": "markdown",
   "metadata": {},
   "source": [
    "## Features Dictionary\n",
    "\n",
    "In this notebook I've develop a function that reads an excel file called FEATS_brm from the McRae's dataset. The function allows to translate a feature name such as \"is_red\" into a python vector [is, red]. \n",
    "This is going to be used for encoding each concept into hyperdimensional vectors by means of arithmetical operations like concept = is * red + ...\n"
   ]
  },
  {
   "cell_type": "code",
   "execution_count": 70,
   "metadata": {},
   "outputs": [
    {
     "name": "stdout",
     "output_type": "stream",
     "text": [
      "      Feature  CPF Disting  Distinct  Feat_Length_Including_Spaces   BR_Label  \\\n",
      "1  a_baby_cow    1       D       1.0                            10  taxonomic   \n",
      "\n",
      "  feat_name feat_value deep? Unnamed: 9  \n",
      "1        is   baby_cow   NaN        NaN  \n",
      "[u'is']\n",
      "is\n",
      "[['is', 'baby_cow']]\n"
     ]
    }
   ],
   "source": [
    "import pandas as pd\n",
    "\n",
    "def TranslateFeats(ListFeat):\n",
    "    \"It receives a list of features such as ['is_blue', 'is_rectangular'] and it returns the same list translated to pairs of feat_name and feat_value: [['color','blue'], ['shape','rectangular']\"\n",
    "    \n",
    "    # Dataframe for excel document\n",
    "    df = pd.read_excel('../McRaedataset/FEATS_brm.xlsx')\n",
    "    ListPairs = []\n",
    "    for feat in ListFeat:\n",
    "        # Row for feature...\n",
    "        row = df.loc[df['Feature'] == feat]       \n",
    "        print row\n",
    "        print row['feat_name'].tolist()\n",
    "        print str(row['feat_name'].tolist()[0])\n",
    "        # Look for values in vec_feat and vec_value\n",
    "        ListPairs.append([str(row['feat_name'].tolist()[0]), str(row['feat_value'].tolist()[0])])       \n",
    "    return ListPairs\n",
    "\n",
    "\n",
    "print TranslateFeats(['a_baby_cow'])\n"
   ]
  }
 ],
 "metadata": {
  "kernelspec": {
   "display_name": "Python 2",
   "language": "python",
   "name": "python2"
  },
  "language_info": {
   "codemirror_mode": {
    "name": "ipython",
    "version": 2
   },
   "file_extension": ".py",
   "mimetype": "text/x-python",
   "name": "python",
   "nbconvert_exporter": "python",
   "pygments_lexer": "ipython2",
   "version": "2.7.14"
  }
 },
 "nbformat": 4,
 "nbformat_minor": 2
}
