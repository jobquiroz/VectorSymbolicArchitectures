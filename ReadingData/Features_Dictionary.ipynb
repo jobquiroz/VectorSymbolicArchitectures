{
 "cells": [
  {
   "cell_type": "markdown",
   "metadata": {},
   "source": [
    "## Features Dictionary\n",
    "\n",
    "In this notebook I've develop a function that reads an excel file called FEATS_brm from the McRae's dataset. The function allows to translate a feature name such as \"is_red\" into a python vector [is, red]. \n",
    "This is going to be used for encoding each concept into hyperdimensional vectors by means of arithmetical operations like concept = is * red + ...\n"
   ]
  },
  {
   "cell_type": "code",
   "execution_count": 24,
   "metadata": {},
   "outputs": [
    {
     "name": "stdout",
     "output_type": "stream",
     "text": [
      "[['is', 'baby_cow'], ['is', 'baby_bird'], ['is', 'cat'], ['has', 'food'], ['used_for', 'bait']]\n"
     ]
    }
   ],
   "source": [
    "import pandas as pd\n",
    "\n",
    "def TranslateFeats(ListFeat):\n",
    "    \"It receives a list of features such as ['is_blue', 'is_rectangular'] and it returns the same list translated to pairs of feat_name and feat_value: [['color','blue'], ['shape','rectangular']\"\n",
    "    # Dataframe for excel document\n",
    "    df = pd.read_excel('../McRaedataset/FEATS_brm.xlsx')\n",
    "    ListPairs = []\n",
    "    for feat in ListFeat:\n",
    "        # Row for feature...\n",
    "        row = df.loc[df['Feature'] == feat]       \n",
    "        # Look for values in vec_feat and vec_value\n",
    "        ListPairs.append([str(row['feat_name'].tolist()[0]), str(row['feat_value'].tolist()[0])])       \n",
    "    return ListPairs\n",
    "\n",
    "print TranslateFeats(['a_baby_cow', 'a_baby_bird','a_cat','has_food', 'used_for_bait'])"
   ]
  },
  {
   "cell_type": "code",
   "execution_count": 31,
   "metadata": {},
   "outputs": [
    {
     "name": "stdout",
     "output_type": "stream",
     "text": [
      "7\n"
     ]
    }
   ],
   "source": [
    "def ReadDefinitions():\n",
    "    \"Given an xlsx file it retunrs all the concepts feature values as they appear in the original dataset\"\n",
    "    #Dataframe for excel document\n",
    "    df = pd.read_excel('../McRaeDataset/MINI_CONCS_FEATS_concstats_brm.xlsx')\n",
    "    #Create a list with all concept names\n",
    "    names = set(df['Concept'])\n",
    "    # Extract list of features for each name\n",
    "    Concepts = []\n",
    "    for n in names:\n",
    "        row = df.loc[df['Concept'] == n]\n",
    "        Concepts.append([str(n), map(str,list(row['Feature']))])\n",
    "    return Concepts\n",
    "#        print list(row['Feature'])\n",
    "       \n",
    "A = ReadDefinitions()\n",
    "print len(A)"
   ]
  }
 ],
 "metadata": {
  "kernelspec": {
   "display_name": "Python 2",
   "language": "python",
   "name": "python2"
  },
  "language_info": {
   "codemirror_mode": {
    "name": "ipython",
    "version": 2
   },
   "file_extension": ".py",
   "mimetype": "text/x-python",
   "name": "python",
   "nbconvert_exporter": "python",
   "pygments_lexer": "ipython2",
   "version": "2.7.14"
  }
 },
 "nbformat": 4,
 "nbformat_minor": 2
}
