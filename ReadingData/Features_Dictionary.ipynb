{
 "cells": [
  {
   "cell_type": "markdown",
   "metadata": {},
   "source": [
    "## Features Dictionary\n",
    "\n",
    "In this notebook I've develop a function that reads an excel file called FEATS_brm from the McRae's dataset. The function allows to translate a feature name such as \"is_red\" into a python vector [is, red]. \n",
    "This is going to be used for encoding each concept into hyperdimensional vectors by means of arithmetical operations like concept = is * red + ...\n"
   ]
  },
  {
   "cell_type": "code",
   "execution_count": 39,
   "metadata": {},
   "outputs": [
    {
     "name": "stdout",
     "output_type": "stream",
     "text": [
      "\n",
      "\n",
      "\n",
      "FIN\n",
      "\n",
      "\n",
      "0\n",
      "\n",
      "\n",
      "       Feature  CPF Disting  Distinct  Feat_Length_Including_Spaces  \\\n",
      "0  a_baby_bird    1       D       1.0                            11   \n",
      "\n",
      "    BR_Label vec_feat  vec_value deep? Unnamed: 9  \n",
      "0  taxonomic       is  baby_bird   NaN        NaN   \n",
      "\n",
      "\n",
      "0    is\n",
      "Name: vec_feat, dtype: object\n",
      "0    baby_bird\n",
      "Name: vec_value, dtype: object\n",
      "Final vector:  ['is', 'baby_bird']\n"
     ]
    },
    {
     "data": {
      "text/plain": [
       "u'is'"
      ]
     },
     "execution_count": 39,
     "metadata": {},
     "output_type": "execute_result"
    }
   ],
   "source": [
    "import pandas as pd\n",
    "\n",
    "df = pd.read_excel('../McRaedataset/FEATS_brm.xlsx')\n",
    "a = df[\"Feature\"]\n",
    "#print a\n",
    "print \"\\n\\n\\nFIN\\n\\n\"\n",
    "\n",
    "\n",
    "ind = df.index[df['Feature'] == 'a_baby_bird'].tolist()\n",
    "print ind[0]\n",
    "\n",
    "b = df.loc[df['Feature'] == 'a_baby_bird']\n",
    "print \"\\n\\n\", b, \"\\n\\n\"\n",
    "\n",
    "print \"Final vector: \", [str(c[0]),str(d[0])]\n"
   ]
  }
 ],
 "metadata": {
  "kernelspec": {
   "display_name": "Python 2",
   "language": "python",
   "name": "python2"
  },
  "language_info": {
   "codemirror_mode": {
    "name": "ipython",
    "version": 2
   },
   "file_extension": ".py",
   "mimetype": "text/x-python",
   "name": "python",
   "nbconvert_exporter": "python",
   "pygments_lexer": "ipython2",
   "version": "2.7.14"
  }
 },
 "nbformat": 4,
 "nbformat_minor": 2
}
