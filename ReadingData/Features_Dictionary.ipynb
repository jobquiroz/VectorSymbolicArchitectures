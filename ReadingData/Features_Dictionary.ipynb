{
 "cells": [
  {
   "cell_type": "markdown",
   "metadata": {},
   "source": [
    "## Features Dictionary\n",
    "\n",
    "In this notebook I've develop a function that reads an excel file called FEATS_brm from the McRae's dataset. The function allows to translate a feature name such as \"is_red\" into a python vector [is, red]. \n",
    "This is going to be used for encoding each concept into hyperdimensional vectors by means of arithmetical operations like concept = is * red + ...\n"
   ]
  },
  {
   "cell_type": "code",
   "execution_count": 1,
   "metadata": {},
   "outputs": [
    {
     "name": "stdout",
     "output_type": "stream",
     "text": [
      "[['is', 'baby_cow'], ['is', 'baby_bird'], ['is', 'cat'], ['has', 'food'], ['used_for', 'bait']]\n"
     ]
    }
   ],
   "source": [
    "import pandas as pd\n",
    "\n",
    "def TranslateFeats(ListFeat):\n",
    "    \"It receives a list of features such as ['is_blue', 'is_rectangular'] and it returns: [['color','blue'], ['shape','rectangular']\"\n",
    "    # Dataframe for excel document\n",
    "    df = pd.read_excel('../McRaedataset/FEATS_brm.xlsx')\n",
    "    ListPairs = []\n",
    "    for feat in ListFeat:\n",
    "        # Row for feature...\n",
    "        row = df.loc[df['Feature'] == feat]       \n",
    "        # Look for values in vec_feat and vec_value\n",
    "        ListPairs.append([str(row['feat_name'].tolist()[0]), str(row['feat_value'].tolist()[0])])       \n",
    "    return ListPairs\n",
    "\n",
    "print TranslateFeats(['a_baby_cow', 'a_baby_bird','a_cat','has_food', 'used_for_bait'])"
   ]
  },
  {
   "cell_type": "code",
   "execution_count": 3,
   "metadata": {},
   "outputs": [
    {
     "name": "stdout",
     "output_type": "stream",
     "text": [
      "[['apartment', ['used_for_living_in', 'has_bedrooms', 'found_in_buildings', 'requires_rent', 'has_a_kitchen', 'is_small', 'has_a_bathroom', 'has_a_bedroom', 'has_tenants', 'associated_with_2_bedrooms', 'is_furnished', 'requires_a_landlord', 'a_house', 'has_a_balcony', 'made_of_brick', 'found_in_high-rises', 'has_elevators', 'has_windows']], ['accordion', ['a_musical_instrument', 'has_keys', 'requires_air', 'associated_with_polkas', 'has_buttons', 'used_by_moving_bellows', 'inbeh_-_produces_music', 'is_loud', 'worn_on_chest']], ['alligator', ['has_teeth', 'is_green', 'an_animal', 'is_long', 'a_reptile', 'lives_in_swamps', 'has_scales', 'lives_in_water', 'has_a_tail', 'is_scary', 'beh_-_swims', 'has_a_mouth', 'lives_in_Florida', 'beh_-_eats_people', 'has_jaws', 'is_dangerous']], ['ant', ['an_insect', 'is_small', 'is_black', 'lives_in_ground', 'is_strong', 'is_red', 'lives_in_a_hill', 'lives_in_a_colony', 'has_6_legs', 'beh_-_bites', 'beh_-_crawls', 'has_antennae']], ['ambulance', ['has_a_siren', 'has_flashing_lights', 'is_fast', 'is_white', 'used_by_hospitals', 'used_for_emergencies', 'a_vehicle', 'requires_caregivers', 'has_4_wheels', 'is_red', 'used_by_sick_people', 'used_for_injuries', 'a_van', 'is_large', 'is_loud', 'is_orange', 'used_by_paramedics', 'used_for_rescuing', 'used_for_transportation']], ['airplane', ['beh_-_flies', 'has_wings', 'used_for_passengers', 'is_fast', 'requires_pilots', 'used_for_transportation', 'found_in_airports', 'is_large', 'made_of_metal', 'inbeh_-_crashes', 'used_for_travel', 'has_a_propeller', 'has_engines']], ['anchor', ['is_heavy', 'made_of_metal', 'found_on_boats', 'used_for_holding_boats_still', 'inbeh_-_sinks', 'used_for_staying_stationary', 'found_in_water', 'made_of_iron', 'is_attached_to_chains', 'is_large', 'used_on_boats', 'an_inanimate', 'is_attached_to_ropes', 'used_by_sailors']]]\n",
      "7\n"
     ]
    }
   ],
   "source": [
    "def ReadDefinitions():\n",
    "    \"Given an xlsx file it retunrs all the concepts feature values as they appear in the original dataset\"\n",
    "    #Dataframe for excel document\n",
    "    df = pd.read_excel('../McRaeDataset/MINI_CONCS_FEATS_concstats_brm.xlsx')\n",
    "    #Create a list with all concept names\n",
    "    names = set(df['Concept'])\n",
    "    # Extract list of features for each name\n",
    "    Concepts = []\n",
    "    for n in names:\n",
    "        row = df.loc[df['Concept'] == n]\n",
    "        Concepts.append([str(n), map(str,list(row['Feature']))])\n",
    "    return Concepts\n",
    "       \n",
    "A = ReadDefinitions()\n",
    "print A\n",
    "print len(A)"
   ]
  }
 ],
 "metadata": {
  "kernelspec": {
   "display_name": "Python 2",
   "language": "python",
   "name": "python2"
  },
  "language_info": {
   "codemirror_mode": {
    "name": "ipython",
    "version": 2
   },
   "file_extension": ".py",
   "mimetype": "text/x-python",
   "name": "python",
   "nbconvert_exporter": "python",
   "pygments_lexer": "ipython2",
   "version": "2.7.14"
  }
 },
 "nbformat": 4,
 "nbformat_minor": 2
}
