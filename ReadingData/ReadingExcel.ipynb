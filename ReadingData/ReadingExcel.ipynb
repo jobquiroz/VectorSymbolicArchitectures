{
 "cells": [
  {
   "cell_type": "code",
   "execution_count": 13,
   "metadata": {},
   "outputs": [
    {
     "name": "stdout",
     "output_type": "stream",
     "text": [
      "146\n",
      "[u'different_shapes', u'has_seeds', u'is_flat', u'eaten_in_pies', u'made_of_metal', u'is_delicious', u'used_for_mixing', u'has_a_lid', u'is_silver', u'used_for_eating_soup', u'requires_a_spoon', u'used_for_stirring', u'is_nutritious', u'has_prongs', u'is_curved', u'used_for_baking', u'has_a_round_end', u'is_long', u'used_for_drinking', u'different_colours', u'found_in_kitchens', u'used_on_stove_tops', u'used_for_serving_food', u'used_for_measuring', u'used_for_coffee', u'used_for_cutting', u'used_with_saucers', u'made_of_plastic', u'used_for_eating', u'a_utensil', u'part_of_table_setting', u'has_skin', u'made_of_silver', u'tastes_sour', u'different_sizes', u'a_dish', u'has_a_handle', u'has_4_prongs', u'has_an_end', u'made_of_ceramic', u'a_cutlery', u'used_for_tea', u'found_on_tables', u'used_for_cooking', u'is_yellow', u'is_worm_infested', u'part_of_a_set_of_dishes', u'used_for_holding_liquids', u'is_sharp', u'made_of_stainless_steel', u'tastes_sweet', u'has_patterns', u'eg_-_granny_smith', u'a_mug', u'has_a_blade', u'used_for_flipping', u'used_for_holding_things', u'used_for_food', u'is_breakable', u'found_in_cupboards', u'used_with_forks', u'is_round', u'made_of_porcelain', u'made_of_glass', u'used_for_liquids', u'used_for_eating_dessert', u'used_for_cider', u'requires_washing', u'made_of_steel', u'used_for_killing', u'is_white', u'a_fruit', u'made_of_paper', u'used_by_butchers', u'used_for_eating_cereal', u'is_crunchy', u'used_with_knives', u'grows_on_trees', u'has_a_concave_end/ladle', u'is_red', u'used_by_babies', u'made_of_wood', u'is_green', u'is_shiny', u'is_juicy', u'used_with_spoons', u'is_serrated', u'made_of_china', u'is_dangerous', u'a_weapon', u'made_of_rubber', u'used_for_putting_food_on', u'used_for_soup', u'has_a_core']\n",
      "94\n"
     ]
    }
   ],
   "source": [
    "import pandas as pd\n",
    "\n",
    "df = pd.read_excel('../McRaedataset/small_dataset.xlsx')\n",
    "a = df[\"Feature\"]\n",
    "#print a[:]\n",
    "print len(a)\n",
    "a = list(set(a))\n",
    "print a\n",
    "print len(a)\n",
    "#print df[\"Feature\"] #df.columns[1]]"
   ]
  }
 ],
 "metadata": {
  "kernelspec": {
   "display_name": "Python 2",
   "language": "python",
   "name": "python2"
  },
  "language_info": {
   "codemirror_mode": {
    "name": "ipython",
    "version": 2
   },
   "file_extension": ".py",
   "mimetype": "text/x-python",
   "name": "python",
   "nbconvert_exporter": "python",
   "pygments_lexer": "ipython2",
   "version": "2.7.14"
  }
 },
 "nbformat": 4,
 "nbformat_minor": 2
}
