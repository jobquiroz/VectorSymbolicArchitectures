{
 "cells": [
  {
   "cell_type": "markdown",
   "metadata": {},
   "source": [
    "# Encoding functions\n",
    "\n",
    "This notebook includes the functions for encoding a dictionary into HD vectors and an associative memory. In order to develop the program I'm using a toy set of object descriptions from McRae's dataset."
   ]
  },
  {
   "cell_type": "code",
   "execution_count": 5,
   "metadata": {},
   "outputs": [
    {
     "name": "stdout",
     "output_type": "stream",
     "text": [
      "List of concepts:  ['apple', 'bowl', 'cup', 'fork', 'knife', 'plate', 'pot', 'spatula', 'spoon', 'handle', 'metal', 'ceramic', 'plastic', 'glass', 'steel']\n"
     ]
    }
   ],
   "source": [
    "%run HDComputing_basics.ipynb  #The HDvector class and other helpful functions are defined here...\n",
    "\n",
    "import pandas\n",
    "\n",
    "df = pandas.read_excel('sample.xlsx')\n",
    "\n",
    "# Dictionary of definitions\n",
    "Dict_defs = {}\n",
    "# Obtaining concept names from column 0\n",
    "concepts = [x for x in map(str, df[df.columns[0]].values) if x != 'nan']\n",
    "print 'List of concepts: ', concepts\n",
    "\n",
    "# Loop for each concept...\n",
    "for concept in concepts:\n",
    "    val_dic = list(map(list, zip([x for x in map(str, df[concept + '_feature']) if x !='nan'], \n",
    "                       [y for y in map(str, df[concept + '_val']) if y !='nan'])))\n",
    "    Dict_defs[concept] = val_dic\n",
    "\n",
    "feature_vectors = []  # List of feature vectors such as 'is', 'used_for', 'shape', etc..."
   ]
  },
  {
   "cell_type": "markdown",
   "metadata": {},
   "source": [
    "## Auxiliar functions"
   ]
  },
  {
   "cell_type": "code",
   "execution_count": 6,
   "metadata": {},
   "outputs": [],
   "source": [
    "def flat_list (L):\n",
    "    \"Recursive function that flats a list of lists (at any level)\"\n",
    "    if L == []:\n",
    "        return L\n",
    "    if type(L[0]) is list:\n",
    "        return flat_list(L[0]) + flat_list(L[1:])\n",
    "    return L[:1] + flat_list(L[1:])"
   ]
  },
  {
   "cell_type": "markdown",
   "metadata": {},
   "source": [
    "## Memory functions"
   ]
  },
  {
   "cell_type": "code",
   "execution_count": 7,
   "metadata": {},
   "outputs": [],
   "source": [
    "def SaveConcepts(Dic):\n",
    "    \"\"\"Given a definitions dictionary it stores in memory the entire set of concepts in the dictionary (including feature vectors)\"\"\"\n",
    "    keys = Dic.keys()\n",
    "    vals = Dic.values()\n",
    "    all_concepts = list(set(flat_list(vals) + keys))\n",
    "    # Process for storing list of concepts in memory\n",
    "    for concept in all_concepts:\n",
    "        HDvector(N,concept) #This creates an object and store it in memory\n",
    "\n",
    "def FeatureVectors(Dic):\n",
    "    global feature_vectors\n",
    "    featt = []\n",
    "    vals = Dic.values()\n",
    "    for l in vals:\n",
    "        for p in l:\n",
    "            featt.append(p[0])\n",
    "    feature_vectors = list(set(featt))\n",
    "            \n",
    "def CreateSemanticPointer (PairList):\n",
    "    \"Turns list as [[feat1,feat_val],[feat2,feat_val],[feat3,feat_val]] into vector feat1*feat_val + feat2*feat_val ...\"\n",
    "    vecs = []\n",
    "    for pair in PairList:\n",
    "        vecs.append(Dict[pair[0]] * Dict[pair[1]])\n",
    "    return ADD(vecs)\n",
    "        \n",
    "def SaveDefinitions(Dic):\n",
    "    \"\"\"Given the definitions dictionary, and having all its concepts previously stored in memory, this functions\n",
    "       creates a definition vector (semantic pointer) using HD operations and assign it as a pointer to an \n",
    "       object vector (ID vector).\"\"\"\n",
    "    global feature_vectors\n",
    "    # Going through all elements in dictionary\n",
    "    for key, value in Dic.iteritems():\n",
    "        Dict[key].setPointer(CreateSemanticPointer(value))"
   ]
  },
  {
   "cell_type": "markdown",
   "metadata": {},
   "source": [
    "## Testing encoding"
   ]
  },
  {
   "cell_type": "code",
   "execution_count": 8,
   "metadata": {},
   "outputs": [
    {
     "name": "stdout",
     "output_type": "stream",
     "text": [
      "Feature vectors: ['origin', 'info', 'infested_by', 'is ', 'consistency', 'color', 'is', 'material', 'made_of', 'surface', 'used_for', 'texture', 'taste', 'shape', 'location', 'eaten_in', 'has', 'used_for ', 'example'] \n",
      "\n",
      "Distance from semantic pointer of 'bowl' to 'shape': 5044\n",
      "Distance from semantic pointer 'bowl'*'shape' to 'round': 3854\n",
      "Assigned label to bowl ** shape:  [['curved', 3824], ['round', 3854]] \n",
      "\n",
      "Labels for apple ** color :  [['yellow', 4048], ['green', 4063], ['red', 4086]] \n",
      "\n",
      "Distance from knife to spoon (definitions): 4168\n",
      "Distance from knife to pot (definitions): 4050 \n",
      "\n",
      "Closest concepts for definition [['shape','round'], ['material','metal'],['used_for','eating']]:  [['pot', 3604], ['plate', 3775], ['handle', 4123], ['fork', 4378], ['bowl', 4435], ['spoon', 4438], ['knife', 4450], ['spatula', 4471]]\n"
     ]
    }
   ],
   "source": [
    "def EncodingTests():\n",
    "    init()\n",
    "    FeatureVectors(Dict_defs)\n",
    "    SaveConcepts(Dict_defs)\n",
    "    SaveDefinitions(Dict_defs)\n",
    "    print 'Feature vectors:', feature_vectors,'\\n'\n",
    "    \n",
    "    # Comparing a definition vs a single feature vector  -> orthogonal...\n",
    "    d1 = Dict['bowl'].getPointer().dist( Dict['shape'] )  \n",
    "    print \"Distance from semantic pointer of 'bowl' to 'shape':\", d1\n",
    "    assert d1 > thr\n",
    "    \n",
    "\n",
    "    d2 = Dict['round'].dist( Dict['bowl'] ** Dict['shape'])  # Equivalent to previous line... \n",
    "    print \"Distance from semantic pointer 'bowl'*'shape' to 'round':\", d2\n",
    "    print \"Assigned label to bowl ** shape: \", HDvector.getLabelID( Dict['bowl'] ** Dict['shape'] ), \"\\n\"\n",
    "    assert d2 < thr\n",
    "    \n",
    "    d22 = Dict['red'].dist( Dict['apple'] ** Dict['color']) \n",
    "    print \"Labels for apple ** color : \", HDvector.getLabelID( Dict['apple'] ** Dict['color'] ), \"\\n\"\n",
    "\n",
    "    # Comparing two semantic pointer vectors:\n",
    "    d3 = HDvector.dist( Dict['knife'].getPointer(), Dict['spoon'].getPointer() )\n",
    "    print \"Distance from knife to spoon (definitions):\", d3\n",
    "    d4 = HDvector.dist( Dict['knife'].getPointer(), Dict['pot'].getPointer() )\n",
    "    print \"Distance from knife to pot (definitions):\", d4, \"\\n\"\n",
    "    \n",
    "    # Asking for closest concept\n",
    "    vec = CreateSemanticPointer( [['shape','round'], ['material','metal'],['used_for','eating']] )\n",
    "    print \"Closest concepts for definition [['shape','round'], ['material','metal'],['used_for','eating']]: \", HDvector.getLabelSP(vec)\n",
    "    \n",
    "    # Tampoco estaría mal hacer un programa que haga una matriz de distancias de todos los semantic pointers contra los demás...\n",
    "    \n",
    "    # Sería interesante probar la codificación de un grafo según gayler:  G = A * P(B) + A * P(C) + B * P(D)\n",
    "    # (si el vector es permutado es hijo, el no permutado es padre)\n",
    "    # ¿qué ventajas hay?, se ve que es más sencillo pero quien sabe que desventajas tenga....\n",
    "    \n",
    "EncodingTests()"
   ]
  }
 ],
 "metadata": {
  "kernelspec": {
   "display_name": "Python 2",
   "language": "python",
   "name": "python2"
  },
  "language_info": {
   "codemirror_mode": {
    "name": "ipython",
    "version": 2
   },
   "file_extension": ".py",
   "mimetype": "text/x-python",
   "name": "python",
   "nbconvert_exporter": "python",
   "pygments_lexer": "ipython2",
   "version": "2.7.14"
  }
 },
 "nbformat": 4,
 "nbformat_minor": 2
}
