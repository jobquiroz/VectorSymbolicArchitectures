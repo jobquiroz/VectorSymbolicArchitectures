{
 "cells": [
  {
   "cell_type": "markdown",
   "metadata": {},
   "source": [
    "## Encoding McRae's dataset in hyperdimensional memory\n",
    "\n",
    "### Libraries and HDComputing class"
   ]
  },
  {
   "cell_type": "code",
   "execution_count": 10,
   "metadata": {},
   "outputs": [],
   "source": [
    "%run HDComputing_basics.ipynb\n",
    "import pandas as pd"
   ]
  },
  {
   "cell_type": "markdown",
   "metadata": {},
   "source": [
    "### Functions for reading dataset"
   ]
  },
  {
   "cell_type": "code",
   "execution_count": 11,
   "metadata": {},
   "outputs": [],
   "source": [
    "def TranslateFeats(ListFeat):\n",
    "    \"It receives a list of features such as ['is_blue', 'is_rectangular'] and it returns: [['color','blue'], ['shape','rectangular']\"\n",
    "    # Dataframe for excel document\n",
    "    df = pd.read_excel('../McRaedataset/FEATS_brm.xlsx')\n",
    "    ListPairs = []\n",
    "    for feat in ListFeat:\n",
    "        # Row for feature...\n",
    "        row = df.loc[df['Feature'] == feat]       \n",
    "        # Look for values in vec_feat and vec_value\n",
    "        ListPairs.append([str(row['feat_name'].tolist()[0]), str(row['feat_value'].tolist()[0])])       \n",
    "    return ListPairs\n",
    "\n",
    "def ReadDefinitions():\n",
    "    \"Given an xlsx file it retunrs all the concepts feature values as they appear in the original dataset\"\n",
    "    #Dataframe for excel document\n",
    "    df = pd.read_excel('../McRaeDataset/CONCS_FEATS_concstats_brm.xlsx') #MINI_\n",
    "    #Create a list with all concept names\n",
    "    names = set(df['Concept'])\n",
    "    # Extract list of features for each name\n",
    "    Concepts = []\n",
    "    for n in names:\n",
    "        row = df.loc[df['Concept'] == n]\n",
    "        Concepts.append([str(n), map(str,list(row['Feature']))])\n",
    "    return Concepts"
   ]
  },
  {
   "cell_type": "markdown",
   "metadata": {},
   "source": [
    "### Creating definitions dictionary"
   ]
  },
  {
   "cell_type": "code",
   "execution_count": 12,
   "metadata": {},
   "outputs": [],
   "source": [
    "def CreateDictionary():\n",
    "    global Dict_defs\n",
    "    data = ReadDefinitions()\n",
    "    for concept in data:\n",
    "        Dict_defs[concept[0]] = TranslateFeats(concept[1])"
   ]
  },
  {
   "cell_type": "markdown",
   "metadata": {},
   "source": [
    "## Storing ID vectors into memory\n",
    "\n",
    "### Memory functions"
   ]
  },
  {
   "cell_type": "code",
   "execution_count": 13,
   "metadata": {},
   "outputs": [],
   "source": [
    "def flat_list (L):\n",
    "    \"Recursive function that flats a list of lists (at any level)\"\n",
    "    if L == []:\n",
    "        return L\n",
    "    if type(L[0]) is list:\n",
    "        return flat_list(L[0]) + flat_list(L[1:])\n",
    "    return L[:1] + flat_list(L[1:])\n",
    "\n",
    "def SaveConcepts(Dic):\n",
    "    \"\"\"Given a definitions dictionary it stores in memory the entire set of concepts in the dictionary (including feature vectors)\"\"\"\n",
    "    keys = Dic.keys()\n",
    "    vals = Dic.values()\n",
    "    all_concepts = list(set(flat_list(vals) + keys))\n",
    "    # Process for storing list of concepts in memory\n",
    "    for concept in all_concepts:\n",
    "        HDvector(N,concept) #This creates an object and store it in memory\n",
    "        \n",
    "def FeatureVectors(Dic):\n",
    "    \"It extract from the definition dictionary all the feature type vectors ('is','has','color', etc...)\"\n",
    "    global feature_vectors\n",
    "    featt = []\n",
    "    vals = Dic.values()\n",
    "    for l in vals:\n",
    "        for p in l:\n",
    "            featt.append(p[0])\n",
    "    feature_vectors = list(set(featt))\n",
    "    \n",
    "def CreateSemanticPointer (PairList):\n",
    "    \"Turns list as [[feat1,feat_val],[feat2,feat_val],[feat3,feat_val]] into vector feat1*feat_val + feat2*feat_val ...\"\n",
    "    vecs = []\n",
    "    for pair in PairList:\n",
    "        vecs.append(Dict[pair[0]] * Dict[pair[1]])\n",
    "    return ADD(vecs)\n",
    "\n",
    "def SaveDefinitions(Dic):\n",
    "    \"\"\"Given the definitions dictionary, and having all its concepts previously stored in memory, this functions\n",
    "       creates a definition vector (semantic pointer) using HD operations and assign it as a pointer to an \n",
    "       object vector (ID vector).\"\"\"\n",
    "    global feature_vectors\n",
    "    # Going through all elements in dictionary\n",
    "    for key, value in Dic.iteritems():\n",
    "        Dict[key].setPointer(CreateSemanticPointer(value))"
   ]
  },
  {
   "cell_type": "markdown",
   "metadata": {},
   "source": [
    "## Testing encoding"
   ]
  },
  {
   "cell_type": "code",
   "execution_count": 17,
   "metadata": {},
   "outputs": [
    {
     "name": "stdout",
     "output_type": "stream",
     "text": [
      "End of initialization\n",
      "End of encoding\n",
      "Starting tests...\n",
      "\n",
      "Test 1 passed!\n",
      "Test 2 passed!\n",
      "Test 3 passed!\n",
      "Test 4: Distance from accordion to airplane (definitions) -> 4945\n",
      "\n",
      "\n",
      "Closest concepts to 'alligator' definition:  [['alligator', 0], ['crocodile', 2458], ['rattlesnake', 3464], ['otter', 3832], ['python', 3910], ['frog', 4000], ['tortoise', 4012], ['perch', 4013], ['trout', 4019], ['turtle', 4025], ['beaver', 4064], ['salmon', 4065], ['eel', 4093], ['platypus', 4148], ['salamander', 4151], ['goldfish', 4157], ['walrus', 4162], ['lobster', 4219], ['cod', 4245], ['iguana', 4256], ['whale', 4262], ['mackerel', 4263], ['cougar', 4268], ['toad', 4268], ['coyote', 4279], ['mink', 4286], ['lion', 4296], ['bayonet', 4297], ['guppy', 4299], ['porcupine', 4324], ['minnow', 4340], ['catfish', 4341], ['rabbit', 4349], ['shrimp', 4352], ['gorilla', 4361], ['octopus', 4365], ['bear', 4366], ['clam', 4393], ['dolphin', 4395], ['machete', 4396], ['asparagus', 4419], ['seal', 4431], ['fox', 4436], ['rat', 4452], ['vine', 4461], ['rake', 4469]]\n",
      "\n",
      "\n",
      "Closest concepts for definition [['has','wings'], ['is','reptile'],['made_of','metal']]:  [['airplane', 3846], ['jet', 3908], ['peg', 4221], ['bucket', 4224], ['spade', 4243], ['hook', 4252], ['nightingale', 4255], ['tongs', 4255], ['harmonica', 4261], ['oriole', 4262], ['machete', 4266], ['tripod', 4276], ['urn', 4278], ['shelves', 4286], ['pheasant', 4288], ['colander', 4291], ['bat_(baseball)', 4293], ['doorknob', 4303], ['buckle', 4307], ['hatchet', 4309], ['tank_(container)', 4310], ['bazooka', 4312], ['moth', 4312], ['shotgun', 4320], ['sleigh', 4322], ['thimble', 4324], ['chain', 4328], ['crane_(machine)', 4337], ['bin_(waste)', 4338], ['bookcase', 4341], ['bluejay', 4341], ['trolley', 4342], ['tap', 4349], ['bench', 4351], ['razor', 4357], ['drain', 4360], ['ladle', 4365], ['pipe_(plumbing)', 4365], ['anchor', 4368], ['hornet', 4369], ['partridge', 4375], ['cap_(bottle)', 4375], ['blackbird', 4376], ['fan_(appliance)', 4378], ['armour', 4381], ['crowbar', 4385], ['sled', 4385], ['scissors', 4389], ['drill', 4389], ['finch', 4392], ['starling', 4392], ['shed', 4393], ['bridge', 4394], ['dishwasher', 4395], ['salamander', 4395], ['skillet', 4396], ['rocket', 4398], ['umbrella', 4401], ['pin', 4401], ['clarinet', 4402], ['chickadee', 4403], ['beetle', 4404], ['pot', 4404], ['oven', 4406], ['shield', 4409], ['fence', 4411], ['cage', 4412], ['door', 4414], ['ring_(jewelry)', 4415], ['key', 4416], ['dove', 4416], ['strainer', 4416], ['iguana', 4416], ['helicopter', 4417], ['grenade', 4419], ['toaster', 4420], ['plug_(electric)', 4421], ['tuba', 4422], ['tray', 4422], ['wheel', 4426], ['stove', 4427], ['bat_(animal)', 4428], ['corkscrew', 4429], ['shack', 4430], ['racquet', 4432], ['sparrow', 4432], ['building', 4435], ['pigeon', 4436], ['falcon', 4436], ['pliers', 4438], ['brush', 4440], ['submarine', 4441], ['desk', 4441], ['tortoise', 4442], ['chisel', 4442], ['sledgehammer', 4443], ['tack', 4443], ['lantern', 4444], ['woodpecker', 4445], ['clamp', 4446], ['flute', 4446], ['alligator', 4448], ['bolts', 4448], ['housefly', 4449], ['tractor', 4450], ['rifle', 4450], ['cannon', 4453], ['cart', 4453], ['owl', 4453], ['gate', 4455], ['baton', 4455], ['train', 4456], ['whistle', 4457], ['escalator', 4458], ['kettle', 4459], ['pan', 4462], ['python', 4462], ['comb', 4464], ['crow', 4464], ['grasshopper', 4465], ['raven', 4466], ['spatula', 4467], ['typewriter', 4470], ['wrench', 4471], ['coin', 4472], ['revolver', 4472], ['canary', 4474], ['grater', 4474], ['saxophone', 4474], ['missile', 4475], ['turtle', 4477], ['microscope', 4478], ['pen', 4480], ['harpoon', 4481], ['dagger', 4484], ['crocodile', 4488], ['scooter', 4489], ['butterfly', 4492], ['tank_(army)', 4492], ['parakeet', 4493], ['wasp', 4494], ['gun', 4495], ['knife', 4496], ['shovel', 4497], ['goose', 4498], ['hawk', 4499]]\n",
      "\n",
      "\n",
      "Closest concepts for definition [['associated_with','polkas']]:  [['accordion', 3644]]\n"
     ]
    }
   ],
   "source": [
    "def EncodingTests():\n",
    "    # Test 1: Distance between any two ID vectors\n",
    "    IDvecs = np.random.choice(Memory[1], 2)\n",
    "    assert Dict[IDvecs[0]].dist(Dict[IDvecs[1]]) > thr\n",
    "    print \"Test 1 passed!\"\n",
    "    \n",
    "    # Test 2: Comparing a definition vs a random vector\n",
    "    d1 = Dict[Dict_defs.keys()[0]].getPointer().dist(Dict[IDvecs[1]])\n",
    "    assert d1 > thr   #Should be greater than threshold (0.45 * N)\n",
    "    print \"Test 2 passed!\"\n",
    "    \n",
    "    # Test 3: Getting labels for accordion ** has  (should return all features that accordion has)\n",
    "    L = HDvector.getLabelID( Dict['accordion'] ** Dict['has'] )\n",
    "    assert ( 'keys' in L[0][0] or 'keys' in L[1][0] ) or  ( 'buttons' in L[0][0] or 'buttons' in L[1][0] )\n",
    "    print  \"Test 3 passed!\"\n",
    "    \n",
    "    # Test 4: Comparing two semantic pointers\n",
    "    Dist = HDvector.dist( Dict['accordion'].getPointer(), Dict['airplane'].getPointer() )\n",
    "    print \"Test 4: Distance from accordion to airplane (definitions) ->\", Dist\n",
    "\n",
    "    # Test 5: Asking closest concept of another concept's definition...\n",
    "    Def = Dict['alligator'].getPointer()\n",
    "    print \"\\n\\nClosest concepts to 'alligator' definition: \", HDvector.getLabelSP(Def)    \n",
    "    \n",
    "    # Test 6: Asking for closest concept\n",
    "    vec = CreateSemanticPointer( [['has','wings'], ['is','reptile'],['made_of','metal']] )\n",
    "    print \"\\n\\nClosest concepts for definition [['has','wings'], ['is','reptile'],['made_of','metal']]: \", HDvector.getLabelSP(vec)\n",
    "    \n",
    "    # Test 6b: Asking for closest concept\n",
    "    vec = CreateSemanticPointer( [['associated_with','polkas']] )\n",
    "    print \"\\n\\nClosest concepts for definition [['associated_with','polkas']]: \", HDvector.getLabelSP(vec)\n",
    "    \n",
    "    \n",
    "    \n",
    "def Main():\n",
    "    init()\n",
    "    # Read dataset and create definition dictionary\n",
    "    CreateDictionary()\n",
    "    # Feature vectors\n",
    "    FeatureVectors(Dict_defs)\n",
    "    # Save concepts into memory (ID vectors)\n",
    "    SaveConcepts(Dict_defs)\n",
    "    # Associate definitions to concepts into memory (SP vectors)\n",
    "    SaveDefinitions(Dict_defs)\n",
    "    print \"End of encoding\"\n",
    "    \n",
    "    print \"Starting tests...\\n\"\n",
    "    EncodingTests()\n",
    "    \n",
    "Main()"
   ]
  },
  {
   "cell_type": "code",
   "execution_count": 16,
   "metadata": {},
   "outputs": [
    {
     "name": "stdout",
     "output_type": "stream",
     "text": [
      "[['has', 'teeth'], ['color', 'green'], ['is', 'animal'], ['shape', 'long'], ['is', 'reptile'], ['lives_in', 'swamps'], ['has', 'scales'], ['lives_in', 'water'], ['has', 'tail'], ['adjective', 'scary'], ['behaviour', 'swims'], ['has', 'mouth'], ['lives_in', 'Florida'], ['behaviour', 'eats_people'], ['has', 'jaws'], ['adjective', 'dangerous']]\n",
      "[['is', 'vegetable'], ['color', 'green'], ['shape', 'long'], ['has', 'inside'], ['eaten_by', 'cooking'], ['eaten_by', 'frying'], ['eaten_in', 'breads'], ['like_a', 'cucumber'], ['adjective', 'tastes_good'], ['has', 'seeds'], ['color', 'white_inside'], ['eaten', 'raw'], ['has', 'green_outside'], ['has', 'outside'], ['adjective', 'nutritious']]\n"
     ]
    }
   ],
   "source": [
    "print Dict_defs['alligator']\n",
    "print Dict_defs['zucchini']"
   ]
  }
 ],
 "metadata": {
  "kernelspec": {
   "display_name": "Python 2",
   "language": "python",
   "name": "python2"
  },
  "language_info": {
   "codemirror_mode": {
    "name": "ipython",
    "version": 2
   },
   "file_extension": ".py",
   "mimetype": "text/x-python",
   "name": "python",
   "nbconvert_exporter": "python",
   "pygments_lexer": "ipython2",
   "version": "2.7.14"
  }
 },
 "nbformat": 4,
 "nbformat_minor": 2
}
