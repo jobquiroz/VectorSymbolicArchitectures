{
 "cells": [
  {
   "cell_type": "markdown",
   "metadata": {},
   "source": [
    "## Encoding McRae's dataset in hyperdimensional memory\n",
    "\n",
    "### Libraries and HDComputing class"
   ]
  },
  {
   "cell_type": "code",
   "execution_count": 1,
   "metadata": {},
   "outputs": [],
   "source": [
    "%run HDComputing_basics.ipynb\n",
    "import pandas as pd"
   ]
  },
  {
   "cell_type": "markdown",
   "metadata": {},
   "source": [
    "### Functions for reading dataset"
   ]
  },
  {
   "cell_type": "code",
   "execution_count": 2,
   "metadata": {},
   "outputs": [],
   "source": [
    "def TranslateFeats(ListFeat):\n",
    "    \"It receives a list of features such as ['is_blue', 'is_rectangular'] and it returns: [['color','blue'], ['shape','rectangular']\"\n",
    "    # Dataframe for excel document\n",
    "    df = pd.read_excel('../McRaedataset/FEATS_brm.xlsx')\n",
    "    ListPairs = []\n",
    "    for feat in ListFeat:\n",
    "        # Row for feature...\n",
    "        row = df.loc[df['Feature'] == feat]       \n",
    "        # Look for values in vec_feat and vec_value\n",
    "        ListPairs.append([str(row['feat_name'].tolist()[0]), str(row['feat_value'].tolist()[0])])       \n",
    "    return ListPairs\n",
    "\n",
    "def ReadDefinitions():\n",
    "    \"Given an xlsx file it retunrs all the concepts feature values as they appear in the original dataset\"\n",
    "    #Dataframe for excel document\n",
    "    df = pd.read_excel('../McRaeDataset/CONCS_FEATS_concstats_brm.xlsx') #MINI_\n",
    "    #Create a list with all concept names\n",
    "    names = set(df['Concept'])\n",
    "    # Extract list of features for each name\n",
    "    Concepts = []\n",
    "    for n in names:\n",
    "        row = df.loc[df['Concept'] == n]\n",
    "        Concepts.append([str(n), map(str,list(row['Feature']))])\n",
    "    return Concepts"
   ]
  },
  {
   "cell_type": "markdown",
   "metadata": {},
   "source": [
    "### Creating definitions dictionary"
   ]
  },
  {
   "cell_type": "code",
   "execution_count": 3,
   "metadata": {},
   "outputs": [],
   "source": [
    "def CreateDictionary():\n",
    "    global Dict_defs\n",
    "    data = ReadDefinitions()\n",
    "    for concept in data:\n",
    "        Dict_defs[concept[0]] = TranslateFeats(concept[1])"
   ]
  },
  {
   "cell_type": "markdown",
   "metadata": {},
   "source": [
    "## Storing ID vectors into memory\n",
    "\n",
    "### Memory functions"
   ]
  },
  {
   "cell_type": "code",
   "execution_count": 4,
   "metadata": {},
   "outputs": [],
   "source": [
    "def flat_list (L):\n",
    "    \"Recursive function that flats a list of lists (at any level)\"\n",
    "    if L == []:\n",
    "        return L\n",
    "    if type(L[0]) is list:\n",
    "        return flat_list(L[0]) + flat_list(L[1:])\n",
    "    return L[:1] + flat_list(L[1:])\n",
    "\n",
    "def SaveConcepts(Dic):\n",
    "    \"\"\"Given a definitions dictionary it stores in memory the entire set of concepts in the dictionary (including feature vectors)\"\"\"\n",
    "    keys = Dic.keys()\n",
    "    vals = Dic.values()\n",
    "    all_concepts = list(set(flat_list(vals) + keys))\n",
    "    # Process for storing list of concepts in memory\n",
    "    for concept in all_concepts:\n",
    "        HDvector(N,concept) #This creates an object and store it in memory\n",
    "        \n",
    "def FeatureVectors(Dic):\n",
    "    \"It extract from the definition dictionary all the feature type vectors ('is','has','color', etc...)\"\n",
    "    global feature_vectors\n",
    "    featt = []\n",
    "    vals = Dic.values()\n",
    "    for l in vals:\n",
    "        for p in l:\n",
    "            featt.append(p[0])\n",
    "    feature_vectors = list(set(featt))\n",
    "    \n",
    "def CreateSemanticPointer (PairList):\n",
    "    \"Turns list as [[feat1,feat_val],[feat2,feat_val],[feat3,feat_val]] into vector feat1*feat_val + feat2*feat_val ...\"\n",
    "    vecs = []\n",
    "    for pair in PairList:\n",
    "        vecs.append(Dict[pair[0]] * Dict[pair[1]])\n",
    "    return ADD(vecs)\n",
    "\n",
    "def SaveDefinitions(Dic):\n",
    "    \"\"\"Given the definitions dictionary, and having all its concepts previously stored in memory, this functions\n",
    "       creates a definition vector (semantic pointer) using HD operations and assign it as a pointer to an \n",
    "       object vector (ID vector).\"\"\"\n",
    "    global feature_vectors\n",
    "    # Going through all elements in dictionary\n",
    "    for key, value in Dic.iteritems():\n",
    "        Dict[key].setPointer(CreateSemanticPointer(value))"
   ]
  },
  {
   "cell_type": "markdown",
   "metadata": {},
   "source": [
    "## Testing encoding"
   ]
  },
  {
   "cell_type": "code",
   "execution_count": 5,
   "metadata": {},
   "outputs": [
    {
     "name": "stdout",
     "output_type": "stream",
     "text": [
      "End of initialization\n",
      "End of encoding\n",
      "Starting tests...\n",
      "\n",
      "Test 1 passed!\n",
      "Test 2 passed!\n",
      "Test 3 passed!\n",
      "Test 4: Distance from accordion to airplane (definitions) -> 5042\n",
      "\n",
      "\n",
      "Closest concepts to 'alligator' definition:  [['alligator', 0], ['crocodile', 2468], ['rattlesnake', 3478], ['otter', 3852], ['python', 3927], ['perch', 3948], ['trout', 3988], ['tortoise', 4023], ['frog', 4038], ['eel', 4061], ['platypus', 4072], ['salmon', 4081], ['walrus', 4161], ['beaver', 4163], ['turtle', 4186], ['iguana', 4205], ['salamander', 4219], ['goldfish', 4225], ['mackerel', 4227], ['lobster', 4235], ['cod', 4270], ['whale', 4290], ['mink', 4300], ['catfish', 4308], ['octopus', 4318], ['lion', 4325], ['cougar', 4351], ['bayonet', 4358], ['toad', 4359], ['coyote', 4390], ['bear', 4395], ['fox', 4409], ['gorilla', 4414], ['guppy', 4421], ['minnow', 4435], ['shrimp', 4436], ['rabbit', 4447], ['seal', 4459], ['willow', 4461], ['porcupine', 4469], ['machete', 4475], ['asparagus', 4479], ['pelican', 4492], ['vine', 4499]]\n",
      "\n",
      "\n",
      "Closest concepts for definition [['has','wings'], ['is','reptile'],['made_of','metal']]:  [['airplane', 3765], ['jet', 3874], ['bucket', 4167], ['peg', 4176], ['harmonica', 4188], ['razor', 4193], ['pheasant', 4205], ['spade', 4214], ['machete', 4214], ['chisel', 4228], ['hatchet', 4235], ['tripod', 4236], ['hook', 4244], ['urn', 4247], ['nightingale', 4256], ['oriole', 4256], ['moth', 4260], ['trolley', 4261], ['scissors', 4278], ['bat_(baseball)', 4292], ['sleigh', 4295], ['doorknob', 4295], ['raven', 4302], ['bin_(waste)', 4308], ['wheel', 4314], ['partridge', 4314], ['tongs', 4318], ['buckle', 4333], ['cap_(bottle)', 4334], ['bench', 4342], ['colander', 4349], ['helicopter', 4351], ['cart', 4352], ['armour', 4352], ['shotgun', 4352], ['clamp', 4355], ['crane_(machine)', 4357], ['clarinet', 4359], ['sledgehammer', 4364], ['hornet', 4367], ['ring_(jewelry)', 4369], ['tap', 4369], ['thimble', 4370], ['dove', 4371], ['tank_(container)', 4373], ['bazooka', 4375], ['finch', 4375], ['shack', 4378], ['goose', 4379], ['tank_(army)', 4379], ['tack', 4381], ['chickadee', 4383], ['baton', 4388], ['pipe_(plumbing)', 4390], ['trumpet', 4391], ['flute', 4392], ['coin', 4394], ['crow', 4395], ['fence', 4396], ['buggy', 4396], ['umbrella', 4397], ['tuba', 4400], ['chain', 4401], ['starling', 4402], ['fan_(appliance)', 4408], ['door', 4408], ['canary', 4409], ['shield', 4409], ['pin', 4410], ['pot', 4410], ['toaster', 4412], ['lantern', 4414], ['stove', 4414], ['buzzard', 4415], ['racquet', 4416], ['owl', 4416], ['skillet', 4417], ['gate', 4418], ['rocket', 4418], ['bookcase', 4421], ['stork', 4422], ['revolver', 4422], ['dagger', 4422], ['corkscrew', 4422], ['stool_(furniture)', 4423], ['turkey', 4423], ['ladle', 4424], ['hawk', 4428], ['blackbird', 4430], ['harpoon', 4432], ['pelican', 4435], ['drain', 4435], ['plug_(electric)', 4435], ['escalator', 4437], ['brush', 4439], ['sparrow', 4440], ['sled', 4440], ['tractor', 4441], ['shed', 4441], ['tray', 4442], ['sword', 4443], ['fork', 4444], ['grasshopper', 4445], ['falcon', 4446], ['bluejay', 4447], ['drill', 4448], ['spatula', 4451], ['grater', 4452], ['wrench', 4454], ['shelves', 4455], ['grenade', 4457], ['oven', 4458], ['crowbar', 4461], ['bike', 4467], ['wasp', 4469], ['knife', 4470], ['pen', 4471], ['hammer', 4472], ['cage', 4472], ['seagull', 4473], ['drum', 4473], ['hoe', 4475], ['bat_(animal)', 4475], ['train', 4475], ['scooter', 4476], ['shovel', 4476], ['beetle', 4479], ['pigeon', 4483], ['anchor', 4484], ['kettle', 4485], ['woodpecker', 4487], ['building', 4488], ['salamander', 4488], ['bolts', 4491], ['bracelet', 4492], ['key', 4494], ['pan', 4497], ['bridge', 4498], ['tortoise', 4498], ['wheelbarrow', 4499], ['saxophone', 4499]]\n",
      "\n",
      "\n",
      "Closest concepts for definition [['associated_with','polkas']]:  [['accordion', 3625]]\n"
     ]
    }
   ],
   "source": [
    "def EncodingTests():\n",
    "    # Test 1: Distance between any two ID vectors\n",
    "    IDvecs = np.random.choice(Memory[1], 2)\n",
    "    assert Dict[IDvecs[0]].dist(Dict[IDvecs[1]]) > thr\n",
    "    print \"Test 1 passed!\"\n",
    "    \n",
    "    # Test 2: Comparing a definition vs a random vector\n",
    "    d1 = Dict[Dict_defs.keys()[0]].getPointer().dist(Dict[IDvecs[1]])\n",
    "    assert d1 > thr   #Should be greater than threshold (0.45 * N)\n",
    "    print \"Test 2 passed!\"\n",
    "    \n",
    "    # Test 3: Getting labels for accordion ** has  (should return all features that accordion has)\n",
    "    L = HDvector.getLabelID( Dict['accordion'] ** Dict['has'] )\n",
    "    assert ( 'keys' in L[0][0] or 'keys' in L[1][0] ) or  ( 'buttons' in L[0][0] or 'buttons' in L[1][0] )\n",
    "    print  \"Test 3 passed!\"\n",
    "    \n",
    "    # Test 4: Comparing two semantic pointers\n",
    "    Dist = HDvector.dist( Dict['accordion'].getPointer(), Dict['airplane'].getPointer() )\n",
    "    print \"Test 4: Distance from accordion to airplane (definitions) ->\", Dist\n",
    "\n",
    "    # Test 5: Asking closest concept of another concept's definition...\n",
    "    Def = Dict['alligator'].getPointer()\n",
    "    print \"\\n\\nClosest concepts to 'alligator' definition: \", HDvector.getLabelSP(Def)    \n",
    "    \n",
    "    # Test 6: Asking for closest concept\n",
    "    vec = CreateSemanticPointer( [['has','wings'], ['is','reptile'],['made_of','metal']] )\n",
    "    print \"\\n\\nClosest concepts for definition [['has','wings'], ['is','reptile'],['made_of','metal']]: \", HDvector.getLabelSP(vec)\n",
    "    \n",
    "    # Test 6b: Asking for closest concept\n",
    "    vec = CreateSemanticPointer( [['associated_with','polkas']] )\n",
    "    print \"\\n\\nClosest concepts for definition [['associated_with','polkas']]: \", HDvector.getLabelSP(vec)\n",
    "    \n",
    "    \n",
    "    \n",
    "def Main():\n",
    "    init()\n",
    "    # Read dataset and create definition dictionary\n",
    "    CreateDictionary()\n",
    "    # Feature vectors\n",
    "    FeatureVectors(Dict_defs)\n",
    "    # Save concepts into memory (ID vectors)\n",
    "    SaveConcepts(Dict_defs)\n",
    "    # Associate definitions to concepts into memory (SP vectors)\n",
    "    SaveDefinitions(Dict_defs)\n",
    "    print \"End of encoding\"\n",
    "    \n",
    "    print \"Starting tests...\\n\"\n",
    "    EncodingTests()\n",
    "    \n",
    "Main()"
   ]
  },
  {
   "cell_type": "code",
   "execution_count": 6,
   "metadata": {},
   "outputs": [
    {
     "name": "stdout",
     "output_type": "stream",
     "text": [
      "[['has', 'teeth'], ['color', 'green'], ['is', 'animal'], ['shape', 'long'], ['is', 'reptile'], ['lives_in', 'swamps'], ['has', 'scales'], ['lives_in', 'water'], ['has', 'tail'], ['adjective', 'scary'], ['behaviour', 'swims'], ['has', 'mouth'], ['lives_in', 'Florida'], ['behaviour', 'eats_people'], ['has', 'jaws'], ['adjective', 'dangerous']]\n",
      "[['is', 'vegetable'], ['color', 'green'], ['shape', 'long'], ['has', 'inside'], ['eaten_by', 'cooking'], ['eaten_by', 'frying'], ['eaten_in', 'breads'], ['like_a', 'cucumber'], ['adjective', 'tastes_good'], ['has', 'seeds'], ['color', 'white_inside'], ['eaten', 'raw'], ['has', 'green_outside'], ['has', 'outside'], ['adjective', 'nutritious']]\n"
     ]
    }
   ],
   "source": [
    "print Dict_defs['alligator']\n",
    "print Dict_defs['zucchini']"
   ]
  }
 ],
 "metadata": {
  "kernelspec": {
   "display_name": "Python 2",
   "language": "python",
   "name": "python2"
  },
  "language_info": {
   "codemirror_mode": {
    "name": "ipython",
    "version": 2
   },
   "file_extension": ".py",
   "mimetype": "text/x-python",
   "name": "python",
   "nbconvert_exporter": "python",
   "pygments_lexer": "ipython2",
   "version": "2.7.14"
  }
 },
 "nbformat": 4,
 "nbformat_minor": 2
}
