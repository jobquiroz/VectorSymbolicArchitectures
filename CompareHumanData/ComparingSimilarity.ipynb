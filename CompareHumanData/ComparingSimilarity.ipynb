{
 "cells": [
  {
   "cell_type": "markdown",
   "metadata": {},
   "source": [
    "# Comparing similarity measures\n",
    "\n",
    "In this notebook a comparison between experimental results on humans and different similarity metrics are compared. \n",
    "This version uses dictionaries to avoid running the program many times.\n",
    "\n",
    "# PENDING...\n",
    "\n",
    " - Normalizar todo.. \n",
    " - Respaldar en github...\n",
    " - Hacer comparaciones contra individuos especificos de la encuesta (mi respuesta y otras que parezcan coherentes..)\n",
    "   (PARA ESO debo de MARCAR las preguntas que eliminé...)\n",
    " - \"Normalizar\" datos, en vez de 1 - 6 pasar de 0 a 1... \n",
    " - Hacer un conjunto de prueba hecho por mi, de 20 parejas\n",
    " - Comenzar a añadir 'la otra forma' de codificar... hacer algunas pruebas básicas... \n",
    " - Viernes enseñar resultados a Barrón y preguntarle si añado lo de la otra forma de codificar... \n",
    "\n",
    "\n",
    "### Importing libraries"
   ]
  },
  {
   "cell_type": "code",
   "execution_count": 27,
   "metadata": {},
   "outputs": [],
   "source": [
    "import pandas as pd\n",
    "import nltk\n",
    "import matplotlib\n",
    "import matplotlib.pyplot as plt\n",
    "import numpy\n",
    "from scipy.stats.stats import pearsonr   \n",
    "\n",
    "%matplotlib inline\n",
    "\n",
    "#nltk.download('wordnet')\n",
    "#nltk.download('wordnet_ic')\n",
    "from nltk.corpus import wordnet as wn\n",
    "from nltk.corpus import wordnet_ic\n",
    "\n",
    "\n",
    "#pathh = '../McRaedataset/'  # @ home\n",
    "pathh = ''    # @ school\n",
    "#exp_file = 'ExperimentalResults_2.xlsx'  #Datos obtenidos con mis encuestas\n",
    "#exp_file = 'ExperimentalResults_3.xlsx'   # Datos de MTURK-771\n",
    "exp_file = 'ExperimentalResults_4.xlsx'   # Q1 Modificado..."
   ]
  },
  {
   "cell_type": "markdown",
   "metadata": {},
   "source": [
    "### Getting pairs of concepts"
   ]
  },
  {
   "cell_type": "code",
   "execution_count": 28,
   "metadata": {},
   "outputs": [
    {
     "name": "stdout",
     "output_type": "stream",
     "text": [
      "[['spoon', 'barrel'], ['spoon', 'envelope'], ['shoes', 'bike'], ['chair', 'pen'], ['shoes', 'carpet'], ['spoon', 'box'], ['spoon', 'truck'], ['table', 'brush'], ['shoes', 'skirt'], ['table', 'curtains'], ['shoes', 'shield'], ['table', 'spoon'], ['table', 'knife'], ['stove', 'pot'], ['bed', 'pajamas'], ['bed', 'mink_(coat)'], ['pen', 'envelope'], ['shoes', 'mink_(coat)'], ['shovel', 'machete'], ['chair', 'car'], ['table', 'barrel'], ['spoon', 'basket'], ['shoes', 'whip'], ['bed', 'lamp'], ['table', 'lamp'], ['chair', 'book'], ['shoes', 'earmuffs'], ['table', 'bookcase'], ['shoes', 'socks'], ['cup', 'bottle'], ['spoon', 'colander'], ['bed', 'curtains'], ['carpet', 'scarf'], ['table', 'sofa'], ['bed', 'chair'], ['bowl', 'bathtub'], ['spoon', 'ashtray'], ['bed', 'dresser'], ['bed', 'closet'], ['bed', 'table'], ['table', 'bench'], ['bed', 'cushion'], ['bed', 'pillow'], ['boots', 'belt'], ['shoes', 'belt'], ['chair', 'dresser'], ['chair', 'closet'], ['chair', 'bookcase'], ['spoon', 'plate'], ['spoon', 'tongs'], ['table', 'chair'], ['bed', 'sofa'], ['knife', 'scissors'], ['spoon', 'spatula'], ['chair', 'bench'], ['skirt', 'trousers'], ['shoes', 'slippers'], ['spoon', 'fork'], ['shoes', 'sandals'], ['chair', 'sofa'], ['spoon', 'ladle'], ['chair', 'rocker'], ['shoes', 'boots'], ['table', 'desk']]\n",
      "64\n"
     ]
    },
    {
     "data": {
      "text/plain": [
       "[<matplotlib.lines.Line2D at 0x7fd9f36fac90>]"
      ]
     },
     "execution_count": 28,
     "metadata": {},
     "output_type": "execute_result"
    },
    {
     "data": {
      "image/png": "[encoded data removed]",
      "text/plain": [
       "<Figure size 432x288 with 1 Axes>"
      ]
     },
     "metadata": {},
     "output_type": "display_data"
    }
   ],
   "source": [
    "def ListofPairs (number):\n",
    "    \"It obtains a list of pairs of concepts\"\n",
    "    df = pd.read_excel(exp_file)\n",
    "    if number > 0:\n",
    "        string = 'Q' + str(number)    \n",
    "    else:\n",
    "        string = 'average'\n",
    "    # 1) List of concepts\n",
    "    ordered = df.sort_values(by=string)\n",
    "    c1 = map(str, list( ordered['concept 1'] ))\n",
    "    c2 = map(str, list( ordered['concept 2'] ))\n",
    "    L1 = map(list, zip(c1,c2))\n",
    "    # 2) Human similarity\n",
    "    ordered = df.sort_values(by=string)\n",
    "    L2 = list(ordered[string])\n",
    "    #L2 = map(lambda x: round(float(x), 3) / 10, list(ordered[string]))\n",
    "    \n",
    "    return L1, L2\n",
    "\n",
    "PConcepts, Hum_Sim = ListofPairs(1)\n",
    "print PConcepts\n",
    "print len(PConcepts)\n",
    "#print Hum_Sim\n",
    "# Plotting\n",
    "plt.plot(Hum_Sim)"
   ]
  },
  {
   "cell_type": "markdown",
   "metadata": {},
   "source": [
    "## HD Computing similarity\n",
    "\n",
    "### Initializing memory and encoding dataset"
   ]
  },
  {
   "cell_type": "code",
   "execution_count": 29,
   "metadata": {},
   "outputs": [
    {
     "name": "stdout",
     "output_type": "stream",
     "text": [
      "End of initialization\n",
      "End of encoding\n"
     ]
    }
   ],
   "source": [
    "%run KB_HDComputing.ipynb\n",
    "\n",
    "# Initializing Memory\n",
    "Init_mem()"
   ]
  },
  {
   "cell_type": "markdown",
   "metadata": {},
   "source": [
    "### Comparing pairs of concepts in the HD binary space\n",
    "\n",
    "To make computations more efficient I created a dictionary where the similarity between a pair of concepts is stored. Everytime that a similarity is required the only thing to do is to consult this dictionary"
   ]
  },
  {
   "cell_type": "code",
   "execution_count": 30,
   "metadata": {},
   "outputs": [
    {
     "name": "stdout",
     "output_type": "stream",
     "text": [
      "[['spoon', 'barrel'], ['spoon', 'envelope'], ['shoes', 'bike'], ['chair', 'pen'], ['shoes', 'carpet'], ['spoon', 'box'], ['spoon', 'truck'], ['table', 'brush'], ['shoes', 'skirt'], ['table', 'curtains'], ['shoes', 'shield'], ['table', 'spoon'], ['table', 'knife'], ['stove', 'pot'], ['bed', 'pajamas'], ['bed', 'mink_(coat)'], ['pen', 'envelope'], ['shoes', 'mink_(coat)'], ['shovel', 'machete'], ['chair', 'car'], ['table', 'barrel'], ['spoon', 'basket'], ['shoes', 'whip'], ['bed', 'lamp'], ['table', 'lamp'], ['chair', 'book'], ['shoes', 'earmuffs'], ['table', 'bookcase'], ['shoes', 'socks'], ['cup', 'bottle'], ['spoon', 'colander'], ['bed', 'curtains'], ['carpet', 'scarf'], ['table', 'sofa'], ['bed', 'chair'], ['bowl', 'bathtub'], ['spoon', 'ashtray'], ['bed', 'dresser'], ['bed', 'closet'], ['bed', 'table'], ['table', 'bench'], ['bed', 'cushion'], ['bed', 'pillow'], ['boots', 'belt'], ['shoes', 'belt'], ['chair', 'dresser'], ['chair', 'closet'], ['chair', 'bookcase'], ['spoon', 'plate'], ['spoon', 'tongs'], ['table', 'chair'], ['bed', 'sofa'], ['knife', 'scissors'], ['spoon', 'spatula'], ['chair', 'bench'], ['skirt', 'trousers'], ['shoes', 'slippers'], ['spoon', 'fork'], ['shoes', 'sandals'], ['chair', 'sofa'], ['spoon', 'ladle'], ['chair', 'rocker'], ['shoes', 'boots'], ['table', 'desk']]\n"
     ]
    },
    {
     "data": {
      "text/plain": [
       "[<matplotlib.lines.Line2D at 0x7fd9f1a8dbd0>]"
      ]
     },
     "execution_count": 30,
     "metadata": {},
     "output_type": "execute_result"
    },
    {
     "data": {
      "image/png": "[encoded data removed]",
      "text/plain": [
       "<Figure size 432x288 with 1 Axes>"
      ]
     },
     "metadata": {},
     "output_type": "display_data"
    }
   ],
   "source": [
    "# Distance vector\n",
    "HD_sim = []\n",
    "print PConcepts\n",
    "for cc in PConcepts:\n",
    "#    print cc\n",
    "    HD_sim.append( HDvector.dist(Dict[cc[0]].getPointer(), Dict[cc[1]].getPointer()) )\n",
    "#Normalizing...\n",
    "HD_sim = map(lambda x: round(1. - x/float( max(HD_sim)) , 3), HD_sim)\n",
    "\n",
    "# Dictionary of distances\n",
    "Dict_HD = {}\n",
    "for key in range(len(HD_sim)):\n",
    "    Dict_HD[key] = HD_sim[key]\n",
    "\n",
    "# Plotting\n",
    "plt.plot(HD_sim)"
   ]
  },
  {
   "cell_type": "markdown",
   "metadata": {},
   "source": [
    "## McRae similarity\n",
    "\n",
    "The following cells consult the similarity for each pair of concepts in the distance matrix provided."
   ]
  },
  {
   "cell_type": "code",
   "execution_count": 31,
   "metadata": {},
   "outputs": [],
   "source": [
    "def McRae_simi (pair_concepts):\n",
    "    \"Given a pair of concepts (in a list) it consults the similarity from the cos_matrix... file\"\n",
    "    try: \n",
    "        df = pd.read_excel(pathh + 'cos_matrix_brm_IFR.xlsx','1st_200')\n",
    "        return list(df.loc[df['CONCEPT'] == pair_concepts[0]][pair_concepts[1]])[0]\n",
    "    except:\n",
    "        try:\n",
    "            df = pd.read_excel(pathh + 'cos_matrix_brm_IFR.xlsx','2nd_200')\n",
    "            return list(df.loc[df['CONCEPT'] == pair_concepts[0]][pair_concepts[1]])[0]\n",
    "        except:\n",
    "            df = pd.read_excel(pathh + 'cos_matrix_brm_IFR.xlsx','last_141')\n",
    "            return list(df.loc[df['CONCEPT'] == pair_concepts[0]][pair_concepts[1]])[0]\n",
    "\n",
    "\n",
    "# Dictionary of distances (McRae)\n",
    "print \"Inicio\"\n",
    "Dict_McRae = {}\n",
    "key = 0\n",
    "for cc in PConcepts:\n",
    "    Dict_McRae[key] = McRae_simi(cc)\n",
    "    key += 1\n",
    "\n",
    "print \"Fin\"\n",
    "#plt.plot( )"
   ]
  },
  {
   "cell_type": "markdown",
   "metadata": {},
   "source": [
    "## NTLK Library functions\n",
    "\n",
    "### Auxiliary functions"
   ]
  },
  {
   "cell_type": "code",
   "execution_count": 32,
   "metadata": {},
   "outputs": [],
   "source": [
    "brown_ic = wordnet_ic.ic('ic-brown.dat')\n",
    "\n",
    "def get_synset (concept):\n",
    "    \"Given a concept name (string) it returns its synset (string)\"\n",
    "    # Dataframe for excel document\n",
    "    df = pd.read_excel(pathh + 'CONCS_Synset_brm.xlsx') #../McRaedataset/CONCS_Synset_brm.xlsx')\n",
    "    row = df.loc[df['Concept'] == concept]\n",
    "    return str(list(row['Synset'] )[0])\n",
    "\n",
    "def similarity_fun ( similarity_metric, pair, corpus = None):\n",
    "    \"Given a similarity_metric function it returns a list of the num closest concepts to 'concept'\"\n",
    "    c_synset_1 = wn.synset( get_synset(pair[0]))\n",
    "    c_synset_2 = wn.synset( get_synset(pair[1]))\n",
    "    if corpus:\n",
    "        return round(similarity_metric(c_synset_1, c_synset_2, corpus), 3)\n",
    "    else:\n",
    "        return round(similarity_metric(c_synset_1, c_synset_2), 3)"
   ]
  },
  {
   "cell_type": "markdown",
   "metadata": {},
   "source": [
    "## Similarity metrics"
   ]
  },
  {
   "cell_type": "code",
   "execution_count": 33,
   "metadata": {},
   "outputs": [],
   "source": [
    "# Path similarity\n",
    "Dict_path = {}\n",
    "Dict_lch = {}\n",
    "Dict_wup = {}\n",
    "Dict_res = {}\n",
    "Dict_jcn = {}\n",
    "Dict_lin = {}\n",
    "\n",
    "print \"Inicio\"\n",
    "key = 0\n",
    "for pair in PConcepts:\n",
    "    Dict_path[key] = similarity_fun(wn.path_similarity, pair)\n",
    "    Dict_lch[key] = similarity_fun(wn.lch_similarity, pair)\n",
    "    Dict_wup[key] = similarity_fun(wn.wup_similarity, pair)\n",
    "    Dict_res[key] = similarity_fun(wn.res_similarity, pair, brown_ic)\n",
    "    Dict_jcn[key] = similarity_fun(wn.jcn_similarity, pair, brown_ic)\n",
    "    Dict_lin[key] = similarity_fun(wn.lin_similarity, pair, brown_ic)\n",
    "    key += 1\n",
    "\n",
    "print \"Fin\""
   ]
  },
  {
   "cell_type": "markdown",
   "metadata": {},
   "source": [
    "## Correlations\n",
    "\n",
    "Using correlation to compare obtained similarity values from different metrics.\n",
    "Loop to obtain correlations between each questionary (and the average) and each similarity metric"
   ]
  },
  {
   "cell_type": "code",
   "execution_count": 34,
   "metadata": {},
   "outputs": [
    {
     "name": "stdout",
     "output_type": "stream",
     "text": [
      "['Q3', 0.5944707966524045, ['HDC', 0.7053845332050873], ['res', 0.6577614906127348], ['McRae', 0.635950624435947], ['jcn', 0.6154477235373255], ['path', 0.5562118840318037], ['lin', 0.5491882602484143], ['lch', 0.5271583062509282], ['wup', 0.508663550896996]]\n",
      "['Q1', 0.5935277385935246, ['HDC', 0.7281290562294039], ['McRae', 0.6607765197456652], ['res', 0.6378787665088864], ['jcn', 0.6132732317473484], ['path', 0.550154684802676], ['lin', 0.5468917187203642], ['lch', 0.516211829948031], ['wup', 0.4949061010458211]]\n",
      "['Q24', 0.5364064316266144, ['HDC', 0.7492729702578965], ['McRae', 0.653609871725065], ['jcn', 0.556528252202636], ['res', 0.5326522166829489], ['path', 0.5124958597377783], ['lin', 0.44377911632465156], ['lch', 0.44339373603528853], ['wup', 0.39951943004664997]]\n",
      "['Q25', 0.4735892967416486, ['HDC', 0.7121983555237832], ['McRae', 0.6399808913880194], ['jcn', 0.45817630746364985], ['res', 0.44663941701157805], ['lin', 0.40894377855213354], ['path', 0.4076076535268331], ['lch', 0.3707731502648827], ['wup', 0.344394820202309]]\n",
      "['Q30', 0.4735892967416486, ['HDC', 0.7121983555237832], ['McRae', 0.6399808913880194], ['jcn', 0.45817630746364985], ['res', 0.44663941701157805], ['lin', 0.40894377855213354], ['path', 0.4076076535268331], ['lch', 0.3707731502648827], ['wup', 0.344394820202309]]\n",
      "['Q11', 0.4405883394866244, ['jcn', 0.6180961294405282], ['HDC', 0.48616229330474325], ['res', 0.45183789638171173], ['path', 0.44434027075727306], ['lin', 0.4071025735195986], ['McRae', 0.39793935124858], ['lch', 0.3846194391767978], ['wup', 0.3346087620637627]]\n",
      "['Q5', 0.4601207064766665, ['HDC', 0.7380770403250874], ['McRae', 0.6786854055375082], ['jcn', 0.4643808421122841], ['res', 0.4337251960448505], ['path', 0.3995501428843089], ['lin', 0.34888857045328836], ['lch', 0.3280827806529581], ['wup', 0.2895756738030463]]\n",
      "['Q0', 0.47158107819354583, ['HDC', 0.800691488934349], ['McRae', 0.7139031972238453], ['jcn', 0.47844473604588655], ['res', 0.4683176997257817], ['path', 0.3624467089330186], ['lin', 0.3608797548099106], ['lch', 0.3082897523975481], ['wup', 0.27967528747802656]]\n",
      "['Q21', 0.395750901378227, ['HDC', 0.6967281263682197], ['McRae', 0.5666839011935533], ['res', 0.4248391385146006], ['jcn', 0.3340300672305577], ['lin', 0.3301694777941791], ['path', 0.27574981668635135], ['lch', 0.2708269085991255], ['wup', 0.2669797746392285]]\n",
      "['Q26', 0.407635254326165, ['HDC', 0.707465007176789], ['McRae', 0.6037600302880889], ['res', 0.4149860348534296], ['jcn', 0.37354325456046233], ['path', 0.324196680499234], ['lch', 0.2901614458924598], ['lin', 0.2892534754299396], ['wup', 0.2577161059089167]]\n",
      "['Q4', 0.44949329269109145, ['HDC', 0.7461197483232831], ['McRae', 0.6455839611849385], ['jcn', 0.5078925830088648], ['res', 0.43135938010383584], ['lin', 0.3693239682822185], ['path', 0.3558785974283806], ['lch', 0.28997045285783196], ['wup', 0.24981765033937842]]\n",
      "['Q20', 0.41601074411070793, ['McRae', 0.6758511938086207], ['HDC', 0.6565056081707962], ['jcn', 0.5123562728681436], ['lin', 0.3855421569845399], ['res', 0.3549669055127946], ['path', 0.26856863908400963], ['lch', 0.24195715102218357], ['wup', 0.23233802543457513]]\n",
      "['Q9', 0.4251733716679872, ['HDC', 0.7712392221317751], ['McRae', 0.6833085497340586], ['jcn', 0.4714803906864961], ['res', 0.3638244370812098], ['path', 0.3440421234647614], ['lin', 0.2937809874452435], ['lch', 0.2653668709848338], ['wup', 0.20834439181551898]]\n",
      "['Q7', 0.34853420919753536, ['McRae', 0.6043378342936216], ['HDC', 0.5768124066547226], ['jcn', 0.3764845276543243], ['res', 0.33611438039791025], ['path', 0.2797139700229297], ['lin', 0.22947059293965896], ['lch', 0.21115806042596702], ['wup', 0.17418190119114865]]\n",
      "['Q18', 0.35613773646205626, ['HDC', 0.5921893504608678], ['McRae', 0.5791788953636348], ['jcn', 0.47568726946362555], ['res', 0.3384572390125867], ['lin', 0.28919584971761536], ['path', 0.21561790576098852], ['lch', 0.18523263982150848], ['wup', 0.17354274209562276]]\n",
      "['Q17', 0.30597188362382693, ['HDC', 0.6246070009432737], ['McRae', 0.5350762552782452], ['res', 0.30664601700111627], ['jcn', 0.26489530859770033], ['path', 0.20039884250355716], ['lin', 0.18329290870158807], ['lch', 0.17485084803958356], ['wup', 0.1580078879255513]]\n",
      "['Q13', 0.33329154773781594, ['McRae', 0.6249213545511516], ['HDC', 0.607697027593303], ['jcn', 0.3560187575683177], ['res', 0.30110846732679414], ['path', 0.2512003490987392], ['lin', 0.2143512361699479], ['lch', 0.17343847583980593], ['wup', 0.13759671375446794]]\n",
      "['Q14', 0.33329154773781594, ['McRae', 0.6249213545511516], ['HDC', 0.607697027593303], ['jcn', 0.3560187575683177], ['res', 0.30110846732679414], ['path', 0.2512003490987392], ['lin', 0.2143512361699479], ['lch', 0.17343847583980593], ['wup', 0.13759671375446794]]\n",
      "['Q2', 0.30026107233404914, ['HDC', 0.51036430247857], ['McRae', 0.47627983057545076], ['jcn', 0.3391599417014522], ['res', 0.3139544672969081], ['lin', 0.2655922357051905], ['path', 0.20385036195446252], ['lch', 0.1616460740666408], ['wup', 0.13124136489371815]]\n",
      "['Q22', 0.290466647648571, ['HDC', 0.5843825803434699], ['McRae', 0.5420513893151659], ['jcn', 0.40859858007456784], ['res', 0.1942290093620494], ['lin', 0.18357219686954251], ['path', 0.1810344667785805], ['lch', 0.12949442086792384], ['wup', 0.10037053757726806]]\n",
      "['Q10', 0.2768242031476301, ['HDC', 0.7001204148266258], ['McRae', 0.5901324986927545], ['jcn', 0.31361079043658824], ['res', 0.2304244004083182], ['path', 0.14764922114336945], ['lin', 0.13411478255593604], ['lch', 0.06555702735185488], ['wup', 0.03298448976559395]]\n",
      "['Q15', 0.1476871969489682, ['HDC', 0.5928617805455504], ['McRae', 0.46148472531002854], ['jcn', 0.0679443000188171], ['path', 0.059797070588221576], ['res', 0.04890078086214064], ['lch', -0.0005442111687768574], ['lin', -0.013202213681767987], ['wup', -0.03574465688246785]]\n",
      "['Q27', 0.1079089722023298, ['McRae', 0.4407910087767634], ['HDC', 0.38802941091733795], ['jcn', 0.10522105309634659], ['res', 0.05535089938482106], ['lin', 0.0049548979063905015], ['path', -0.014008973343151689], ['lch', -0.0493200498373339], ['wup', -0.06774646928253554]]\n",
      "['Q23', 0.4758991774136222, ['HDC', 0.596198008426134], ['res', 0.5350962803127656], ['McRae', 0.5022504997756353], ['lin', 0.4731692512854517], ['jcn', 0.46418381506899464], ['wup', 0.43045800840859394], ['lch', 0.4033462087912317], ['path', 0.402491347240171]]\n",
      "['Q12', 0.1932463829858294, ['HDC', 0.32844962171966885], ['McRae', 0.3069201494838407], ['res', 0.2901760593314529], ['lin', 0.2107536926998843], ['jcn', 0.153632961028617], ['wup', 0.10664208524948544], ['lch', 0.07735104714052705], ['path', 0.07204544723315898]]\n",
      "['Q6', 0.4395777476011491, ['HDC', 0.6832625996858974], ['McRae', 0.638013239801899], ['jcn', 0.47370301510190366], ['res', 0.4101137097368982], ['path', 0.3568456930384529], ['lch', 0.32921431353282776], ['wup', 0.316474171718548], ['lin', 0.30899523819276553]]\n",
      "['Q28', 0.3686147360501309, ['HDC', 0.6344030487310623], ['McRae', 0.5714051755134275], ['res', 0.42224188881818975], ['jcn', 0.28996819178530114], ['path', 0.2887844056083111], ['lch', 0.2677724775540963], ['wup', 0.25571431728669064], ['lin', 0.21862838310396862]]\n",
      "['Q29', 0.3686147360501309, ['HDC', 0.6344030487310623], ['McRae', 0.5714051755134275], ['res', 0.42224188881818975], ['jcn', 0.28996819178530114], ['path', 0.2887844056083111], ['lch', 0.2677724775540963], ['wup', 0.25571431728669064], ['lin', 0.21862838310396862]]\n",
      "['Q16', 0.23159441079790438, ['HDC', 0.3288166150414775], ['McRae', 0.3092073497582305], ['jcn', 0.22833934858764812], ['res', 0.21502479341419448], ['path', 0.20914943242287604], ['lch', 0.20199725089426293], ['wup', 0.1941251100231358], ['lin', 0.16609538624140946]]\n",
      "['Q19', 0.17364788791325433, ['HDC', 0.5389660244483532], ['McRae', 0.5035017284074779], ['res', 0.1456800189812725], ['jcn', 0.13283398332206603], ['path', 0.06157027970865411], ['lch', 0.02438193677818998], ['wup', -0.004703301370811109], ['lin', -0.013047566969167942]]\n",
      "['Q8', 0.22872347470804094, ['HDC', 0.5541641769438242], ['McRae', 0.46191769306451474], ['jcn', 0.32471017578990446], ['lin', 0.22503484871365673], ['res', 0.21853079674753098], ['path', 0.045282454320680385], ['wup', 0.0013339201467725283], ['lch', -0.0011862680625562866]]\n"
     ]
    }
   ],
   "source": [
    "print \"Inicio\"\n",
    "Corr_mat = []\n",
    "for Q in range(31):\n",
    "    # 1) Obtain \"human list\", it can be the average responses or an specific one\n",
    "    Hum_sim =  ListofPairs(Q) #or Q + #1-30\n",
    "    \n",
    "    # 2) Obtain list of keys for previous list\n",
    "    keys = map(lambda x: PConcepts.index(x), Hum_sim[0])\n",
    "    \n",
    "    # 3) Create a list of distances according to each metric by consulting the appropiate dictionary\n",
    "    HD_sim = [Dict_HD[x] for x in keys]\n",
    "    McRae_sim = [Dict_McRae[x] for x in keys]\n",
    "    path_sim = [Dict_path[x] for x in keys]\n",
    "    lch_sim = [Dict_lch[x] for x in keys]\n",
    "    # optional... \n",
    "    lch_sim = map(lambda x: round(x/float( max(lch_sim)) , 3), lch_sim)\n",
    "    \n",
    "    wup_sim = [Dict_wup[x] for x in keys]\n",
    "    res_sim = [Dict_res[x] for x in keys]\n",
    "    # optional\n",
    "    res_sim = map(lambda x: round(x/float( max(res_sim)) , 3), res_sim)\n",
    "    \n",
    "    jcn_sim = [Dict_jcn[x] for x in keys]\n",
    "    lin_sim = [Dict_lin[x] for x in keys]\n",
    "\n",
    "    # 4) Calculate correlations\n",
    "    correlations = [['HDC', pearsonr(Hum_sim[1], HD_sim)[0]], ['McRae', pearsonr(Hum_sim[1], McRae_sim)[0]],\n",
    "                    ['path', pearsonr(Hum_sim[1], path_sim)[0]], ['lch', pearsonr(Hum_sim[1], lch_sim)[0]],\n",
    "                    ['wup', pearsonr(Hum_sim[1], wup_sim)[0]], ['res', pearsonr(Hum_sim[1], res_sim)[0]],\n",
    "                    ['jcn', pearsonr(Hum_sim[1], jcn_sim)[0]], ['lin', pearsonr(Hum_sim[1], lin_sim)[0]]]\n",
    "\n",
    "    # 5) Sort list so far (key = )\n",
    "    correlations = sorted(correlations, key = lambda x: x[1], reverse = True)\n",
    "    \n",
    "    # 6) Adding 'name' and average correlation value\n",
    "    Corr_mat.append( ['Q' + str(Q), np.mean([r[1] for r in correlations])] + correlations )\n",
    "\n",
    "# 7) Sorting entire matrix by average value (last...)\n",
    "Corr_mat = sorted(Corr_mat, key = lambda x: x[-1], reverse = True)\n",
    "\n",
    "# Printing\n",
    "for v in Corr_mat:\n",
    "    print v"
   ]
  },
  {
   "cell_type": "code",
   "execution_count": 38,
   "metadata": {},
   "outputs": [
    {
     "name": "stdout",
     "output_type": "stream",
     "text": [
      "[0.07, 0.058, 0.055, 0.073, 0.06, 0.116, 0.036, 0.02, 0.017, 0.027, 0.012, 0.084, 0.021, 0.035, 0.037, 0.247, 0.141, 0.068, 0.122, 0.034, 0.119, 0.069, 0.114, 0.007, 0.19, 0.049, 0.123, 0.11, 0.089, 0.113, 0.109, 0.0, 0.137, 0.128, 0.012, 0.062, 0.191, 0.17, 0.203, 0.211, 0.136, 0.043, 0.221, 0.19, 0.107, 0.129, 0.195, 0.244, 0.167, 0.146, 0.074, 0.202, 0.326, 0.155, 0.191, 0.156, 0.213, 0.355, 0.196, 0.273, 0.222, 0.341, 0.134, 0.224]\n",
      "[0.134, 0.044, 0.306, 0.026, 0.035, 0.149, 0.0, 0.0, 0.0, 0.0, 0.0, 0.031, 0.0, 0.0, 0.0, 0.336, 0.29, 0.017, 0.104, 0.0, 0.325, 0.03, 0.093, 0.0, 0.377, 0.039, 0.121, 0.158, 0.02, 0.082, 0.222, 0.0, 0.514, 0.17, 0.0, 0.037, 0.477, 0.149, 0.159, 0.425, 0.202, 0.0, 0.35, 0.227, 0.119, 0.192, 0.323, 0.546, 0.382, 0.284, 0.022, 0.319, 0.546, 0.138, 0.204, 0.374, 0.715, 0.62, 0.34, 0.395, 0.511, 0.411, 0.323, 0.405]\n",
      "[0.25, 0.167, 0.125, 0.25, 0.1, 0.167, 0.1, 0.333, 0.2, 0.167, 0.167, 0.333, 0.091, 0.125, 0.125, 0.143, 0.167, 0.25, 0.333, 0.111, 0.333, 0.333, 0.2, 0.25, 0.167, 0.25, 0.25, 0.077, 0.25, 0.2, 0.25, 0.2, 0.143, 0.1, 0.2, 0.25, 0.083, 0.1, 0.167, 0.25, 0.25, 0.25, 0.2, 0.143, 0.2, 0.167, 0.2, 0.333, 0.5, 0.125, 0.333, 0.5, 0.333, 0.25, 0.333, 0.111, 0.333, 0.333, 0.25, 0.143, 0.333, 0.25, 0.25, 0.5]\n",
      "[0.765, 0.627, 0.529, 0.765, 0.453, 0.627, 0.453, 0.862, 0.689, 0.627, 0.627, 0.862, 0.421, 0.529, 0.529, 0.575, 0.627, 0.765, 0.862, 0.489, 0.862, 0.862, 0.689, 0.765, 0.627, 0.765, 0.765, 0.364, 0.765, 0.689, 0.765, 0.689, 0.575, 0.453, 0.689, 0.765, 0.392, 0.453, 0.627, 0.765, 0.765, 0.765, 0.689, 0.575, 0.689, 0.627, 0.689, 0.862, 1.0, 0.529, 0.862, 1.0, 0.862, 0.765, 0.862, 0.489, 0.862, 0.862, 0.765, 0.575, 0.862, 0.765, 0.765, 1.0]\n",
      "[0.824, 0.706, 0.588, 0.842, 0.571, 0.706, 0.571, 0.875, 0.75, 0.706, 0.737, 0.889, 0.5, 0.632, 0.588, 0.667, 0.706, 0.824, 0.875, 0.6, 0.889, 0.875, 0.75, 0.824, 0.706, 0.8, 0.842, 0.455, 0.842, 0.8, 0.842, 0.778, 0.667, 0.571, 0.75, 0.842, 0.476, 0.526, 0.706, 0.842, 0.842, 0.842, 0.75, 0.667, 0.8, 0.706, 0.8, 0.9, 0.941, 0.588, 0.889, 0.952, 0.9, 0.842, 0.875, 0.556, 0.917, 0.875, 0.824, 0.667, 0.9, 0.824, 0.842, 0.947]\n",
      "[0.492, 0.308, 0.218, 0.626, 0.308, 0.308, 0.308, 0.492, 0.484, 0.308, 0.492, 0.626, 0.218, 0.308, 0.218, 0.308, 0.484, 0.492, 0.492, 0.484, 0.626, 0.492, 0.484, 0.617, 0.484, 0.484, 0.626, 0.218, 0.626, 0.626, 0.626, 0.617, 0.308, 0.308, 0.484, 0.626, 0.218, 0.218, 0.484, 0.626, 0.626, 0.626, 0.308, 0.484, 0.708, 0.484, 0.626, 1.0, 0.85, 0.218, 0.676, 0.926, 0.798, 0.626, 0.823, 0.218, 0.793, 0.823, 0.492, 0.308, 0.798, 0.492, 0.626, 0.741]\n",
      "[0.095, 0.063, 0.069, 0.155, 0.089, 0.08, 0.092, 0.083, 0.13, 0.086, 0.107, 0.167, 0.08, 0.07, 0.073, 0.0, 0.088, 0.066, 0.085, 0.088, 0.126, 0.106, 0.1, 0.234, 0.106, 0.0, 0.2, 0.061, 0.343, 0.205, 0.101, 0.21, 0.09, 0.0, 0.107, 0.214, 0.066, 0.062, 0.085, 0.228, 0.155, 0.163, 0.052, 0.092, 0.145, 0.076, 0.18, 0.697, 0.305, 0.067, 0.129, 0.347, 0.294, 0.197, 0.323, 0.064, 0.161, 0.398, 0.105, 0.061, 0.3, 0.078, 0.2, 0.705]\n",
      "[0.496, 0.292, 0.241, 0.672, 0.368, 0.342, 0.375, 0.463, 0.571, 0.358, 0.526, 0.689, 0.269, 0.313, 0.253, 0.0, 0.473, 0.406, 0.469, 0.473, 0.624, 0.524, 0.505, 0.753, 0.52, 0.0, 0.726, 0.22, 0.819, 0.731, 0.571, 0.732, 0.37, 0.0, 0.522, 0.739, 0.234, 0.221, 0.465, 0.751, 0.672, 0.683, 0.254, 0.486, 0.684, 0.437, 0.704, 0.936, 0.846, 0.235, 0.649, 0.872, 0.832, 0.723, 0.849, 0.229, 0.73, 0.874, 0.521, 0.284, 0.835, 0.447, 0.726, 0.917]\n"
     ]
    }
   ],
   "source": [
    "print HD_sim\n",
    "print McRae_sim\n",
    "print path_sim\n",
    "print lch_sim\n",
    "print wup_sim\n",
    "print res_sim\n",
    "print jcn_sim\n",
    "print lin_sim"
   ]
  }
 ],
 "metadata": {
  "kernelspec": {
   "display_name": "Python 2",
   "language": "python",
   "name": "python2"
  },
  "language_info": {
   "codemirror_mode": {
    "name": "ipython",
    "version": 2
   },
   "file_extension": ".py",
   "mimetype": "text/x-python",
   "name": "python",
   "nbconvert_exporter": "python",
   "pygments_lexer": "ipython2",
   "version": "2.7.15"
  }
 },
 "nbformat": 4,
 "nbformat_minor": 2
}
