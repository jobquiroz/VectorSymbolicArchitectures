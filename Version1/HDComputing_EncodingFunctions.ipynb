{
 "cells": [
  {
   "cell_type": "markdown",
   "metadata": {},
   "source": [
    "# Encoding functions\n",
    "\n",
    "This notebook includes the functions for encoding a dictionary into HD vectors and an associative memory. In order to develop the program I'm using a toy set of object descriptions from McRae's dataset."
   ]
  },
  {
   "cell_type": "code",
   "execution_count": 76,
   "metadata": {},
   "outputs": [],
   "source": [
    "%run HDComputing_basics.ipynb\n",
    "\n",
    "#init()\n",
    "\n",
    "Dict_defs = {'bowl':         [['is','kitchen_utensil'], ['shape','round'],['used_for','eating'],['material','plastic']],\n",
    "             'cup' :         [['is','kitchen_utensil'], ['shape','cylinder'],['used_for','drinking'],['has','handle'],['material','ceramic']],\n",
    "             'fork':         [['is','kitchen_utensil'], ['used_for','eating'],['has','prongs'],['material','metal']],\n",
    "             'knife':        [['is','kitchen_utensil'], ['used_for','cutting'],['has','handle'],['material','metal']],\n",
    "             'plate':        [['is','kitchen_utensil'], ['used_for','eating'],['shape','round'],['material','ceramic']],\n",
    "             'pot':          [['is','kitchen_utensil'], ['used_for','cooking'],['has','handle'],['shape','round']],\n",
    "             'spoon':        [['is','kitchen_utensil'], ['used_for','eating'],['material','metal'],['has','round_end']],\n",
    "            \n",
    "             'apple':        [['color','red'],['is','fruit'],['color','green'], ['taste','sweet'], ['origin','trees'],['consistency','crunchy']]\n",
    "            }   \n",
    "\n",
    "feature_vectors = []  # List of feature vectors such as 'is', 'used_for', 'shape', etc..."
   ]
  },
  {
   "cell_type": "markdown",
   "metadata": {},
   "source": [
    "## Auxiliar functions"
   ]
  },
  {
   "cell_type": "code",
   "execution_count": 77,
   "metadata": {},
   "outputs": [],
   "source": [
    "def flat_list (L):\n",
    "    \"Recursive function that flats a list of lists (at any level)\"\n",
    "    if L == []:\n",
    "        return L\n",
    "    if type(L[0]) is list:\n",
    "        return flat_list(L[0]) + flat_list(L[1:])\n",
    "    return L[:1] + flat_list(L[1:])"
   ]
  },
  {
   "cell_type": "markdown",
   "metadata": {},
   "source": [
    "## Memory functions"
   ]
  },
  {
   "cell_type": "code",
   "execution_count": 78,
   "metadata": {},
   "outputs": [],
   "source": [
    "def CreateSemanticPointer (PairList):\n",
    "    \"Turns list as [[feat1,feat_val],[feat2,feat_val],[feat3,feat_val]] into vector feat1*feat_val + feat2*feat_val ...\"\n",
    "    vecs = []\n",
    "    for pair in PairList:\n",
    "        vecs.append(Dict[pair[0]] * Dict[pair[1]])\n",
    "    return ADD(vecs)\n",
    "            \n",
    "def SaveConcepts(Dic):\n",
    "    \"\"\"Given a definitions dictionary it stores in memory the entire set of concepts in the dictionary (including feature vectors)\"\"\"\n",
    "    keys = Dic.keys()\n",
    "    vals = Dic.values()\n",
    "    all_concepts = set(flat_list(vals) + keys)\n",
    "    # Process for storing list of concepts in memory\n",
    "    for concept in all_concepts:\n",
    "        HDvector(N,concept) #This creates an object and store it in memory\n",
    "        \n",
    "def SaveDefinitions(Dic):\n",
    "    \"\"\"Given the definitions dictionary, and having all its concepts previously stored in memory, this functions\n",
    "       creates a definition vector (semantic pointer) using HD operations and assign it as a pointer to an \n",
    "       object vector (ID vector).\"\"\"\n",
    "    global feature_vectors\n",
    "    vecs = []  #List for creating the semantic pointer\n",
    "    for key, value in Dic.iteritems():\n",
    "        for pair in value:  # It goes through each pair [feature_vector, feature_value]\n",
    "            vecs.append(Dict[pair[0]] * Dict[pair[1]])  # Binding operation\n",
    "            feature_vectors.append(pair[0])\n",
    "        Dict[key].setPointer(ADD(vecs)) # Asign the semantic pointer vector to ID vector by using adding all vectors from vecs\n",
    "        vecs = []   #Clean it up for next iteration\n",
    "    feature_vectors = list(set(feature_vectors))  #Delete repeated elements"
   ]
  },
  {
   "cell_type": "markdown",
   "metadata": {},
   "source": [
    "## Testing encoding"
   ]
  },
  {
   "cell_type": "code",
   "execution_count": 79,
   "metadata": {},
   "outputs": [
    {
     "name": "stdout",
     "output_type": "stream",
     "text": [
      "Distance from semantic pointer of 'bowl' to 'shape': 5045\n",
      "Distance from semantic pointer 'bowl'*'shape' to 'round': 3108\n",
      "Assigned label:  round\n",
      "Distance from semantic pointer 'apple'*'color' to 'red': 3398\n",
      "Assigned label:  red\n",
      "Distance from semantic pointer 'apple'*'color' to 'green': 3431\n",
      "Assigned label:  red\n",
      "Distance from knife to spoon (definitions): 3574\n",
      "Distance from knife to pot (definitions): 3563\n",
      "3121\n"
     ]
    }
   ],
   "source": [
    "def EncodingTests():\n",
    "    init()\n",
    "    SaveConcepts(Dict_defs)\n",
    "    SaveDefinitions(Dict_defs)\n",
    "    \n",
    "    # Comparing a definition vs a single feature vector  -> orthogonal...\n",
    "    d1 = Dict['bowl'].getPointer().dist( Dict['shape'] )  \n",
    "    print \"Distance from semantic pointer of 'bowl' to 'shape':\", d1\n",
    "    assert d1 > 0.4 * N\n",
    "    \n",
    "    # Comparing an unbinded SP vector vs an specific feature value -> same vector\n",
    "    #d2 = Dict['round'].dist( Dict['bowl'].getPointer() * Dict['shape'] )\n",
    "    d2 = Dict['round'].dist( Dict['bowl'] ** Dict['shape'])  # Equivalent to previous line... \n",
    "    print \"Distance from semantic pointer 'bowl'*'shape' to 'round':\", d2\n",
    "    print \"Assigned label: \", HDvector.getLabel( Dict['bowl'] ** Dict['shape'] )\n",
    "    assert d2 < 0.4 * N\n",
    "    \n",
    "    d22 = Dict['red'].dist( Dict['apple'] ** Dict['color']) \n",
    "    print \"Distance from semantic pointer 'apple'*'color' to 'red':\", d22\n",
    "    print \"Assigned label: \", HDvector.getLabel( Dict['apple'] ** Dict['color'] )\n",
    "    assert d22 < 0.4 * N\n",
    "    \n",
    "    d23 = Dict['green'].dist( Dict['apple'] ** Dict['color']) \n",
    "    print \"Distance from semantic pointer 'apple'*'color' to 'green':\", d23\n",
    "    print \"Assigned label: \", HDvector.getLabel( Dict['apple'] ** Dict['color'] )\n",
    "    assert d23 < 0.4 * N\n",
    "    \n",
    "    \n",
    "    # Comparing two semantic pointer vectors:\n",
    "    d3 = HDvector.dist( Dict['knife'].getPointer(), Dict['spoon'].getPointer() )\n",
    "    print \"Distance from knife to spoon (definitions):\", d3\n",
    "    d4 = HDvector.dist( Dict['knife'].getPointer(), Dict['pot'].getPointer() )\n",
    "    print \"Distance from knife to pot (definitions):\", d4\n",
    "    \n",
    "    # Asking for closest concept\n",
    "    vec = CreateSemanticPointer( [['shape','round'], ['material','metal'],['used_for','eating']] )\n",
    "    print Dict['fork'].getPointer().dist(vec)\n",
    "    \n",
    "    #FALTA IMPLEMENTAR UNA FUNCIÓN LLAMADA ALGO ASÍ COMO get ID vector... no debe dar uno sino varios\n",
    "    # TAMBIÉN EL DE GET LABEL debe dar mejor una lista de los más cercanos (que pasan cierto umbral) \n",
    "    # puede ser solo la lista o una lista de listas [concepto, distancia]\n",
    "    \n",
    "    # ES IMPORTANTE QUE REGRESE LAS VARIAS OPCIONES (DE COLOR o Material por ejemplo) pues eso dará pie a ampliar la busqueda\n",
    "    \n",
    "    # Hacer pruebas con el límite de 'compresión', es decir, probar con definiciones largas y ver si aun se recupera bien\n",
    "    # la información... puedo incluso hacer tablas de eso...\n",
    "    \n",
    "    # Tampoco estaría mal hacer un programa que haga una matriz de distancias de todos los semantic pointers contra los demás...\n",
    "    \n",
    "    # Sería interesante probar la codificación de un grafo según gayler:  G = A * P(B) + A * P(C) + B * P(D)\n",
    "    # (si el vector es permutado es hijo, el no permutado es padre)\n",
    "    # ¿qué ventajas hay?, se ve que es más sencillo pero quien sabe que desventajas tenga....\n",
    "    \n",
    "    #print vec.getLabel()\n",
    "EncodingTests()"
   ]
  }
 ],
 "metadata": {
  "kernelspec": {
   "display_name": "Python 2",
   "language": "python",
   "name": "python2"
  },
  "language_info": {
   "codemirror_mode": {
    "name": "ipython",
    "version": 2
   },
   "file_extension": ".py",
   "mimetype": "text/x-python",
   "name": "python",
   "nbconvert_exporter": "python",
   "pygments_lexer": "ipython2",
   "version": "2.7.14"
  }
 },
 "nbformat": 4,
 "nbformat_minor": 2
}
